{
 "cells": [
  {
   "cell_type": "markdown",
   "metadata": {},
   "source": [
    "# Climate change and multilateral migration\n",
    "\n",
    "This code: *Hendrik Scheewel* (hendrik.scheewel@uliege.be)\n",
    "\n",
    "Joint project with: *Frédéric Docquier*, *Michał Burzyński*"
   ]
  },
  {
   "cell_type": "markdown",
   "metadata": {},
   "source": [
    "Todo:\n",
    "- [ ] Compare population levels by country\n",
    "- [ ] Compare fractions of people in cities by country\n",
    "- [ ] Compare internal and international migration"
   ]
  },
  {
   "cell_type": "markdown",
   "metadata": {},
   "source": [
    "# Load packages"
   ]
  },
  {
   "cell_type": "code",
   "execution_count": 60,
   "metadata": {
    "ExecuteTime": {
     "end_time": "2019-08-01T08:06:20.628804Z",
     "start_time": "2019-08-01T08:06:19.598827Z"
    },
    "code_folding": [
     0
    ]
   },
   "outputs": [],
   "source": [
    "# import packages\n",
    "import pandas as pd\n",
    "import numpy as np\n",
    "import math\n",
    "import datetime\n",
    "import pycountry\n",
    "from numba import jit, vectorize, float64, guvectorize, njit\n",
    "import matplotlib.pyplot as plt\n",
    "from IPython.core.display import HTML\n",
    "import seaborn as sns\n",
    "sns.set_palette('Paired')\n",
    "import itertools\n",
    "from scipy.optimize import minimize\n",
    "import statsmodels.formula.api as sm\n",
    "colors = sns.color_palette()"
   ]
  },
  {
   "cell_type": "code",
   "execution_count": 61,
   "metadata": {
    "ExecuteTime": {
     "end_time": "2019-08-01T08:06:20.633742Z",
     "start_time": "2019-08-01T08:06:20.630537Z"
    }
   },
   "outputs": [],
   "source": [
    "R = ('a', 'n')                      # regions\n",
    "S = ('l', 'h')                      # skills\n",
    "BB = ('d', 'f')                     # areas\n",
    "T = (1980, 2010, 2040, 2070, 2100)  # periods of interest\n",
    "t0 = 1950                           # first period"
   ]
  },
  {
   "cell_type": "markdown",
   "metadata": {},
   "source": [
    "# Simulation class"
   ]
  },
  {
   "cell_type": "code",
   "execution_count": 62,
   "metadata": {
    "ExecuteTime": {
     "end_time": "2019-08-01T08:06:20.649755Z",
     "start_time": "2019-08-01T08:06:20.635746Z"
    },
    "code_folding": [
     1
    ]
   },
   "outputs": [],
   "source": [
    "class model:\n",
    "    def __init__(self,\n",
    "                 name, # name of the model instance\n",
    "                 σ={'a': math.inf, 'n': 2.0}, # elasticity of substitution\n",
    "                 θ=0.25, # preference for children (NOT NEEDED?)\n",
    "                 λ=0.5, # elasticity of training technology (NOT NEEDED?)\n",
    "                 φ=0.14, # time to raise a child (NOT NEEDED?)\n",
    "                 μ=1.4, # 1/elasticity of mig. to wages\n",
    "                 B=0.5, # income loss due to forced discplacement\n",
    "                 τ={'a': 0.0, 'n': 0.0}, # utility loss due to CLC\n",
    "                 tol=1e-10, # tolerance parameter\n",
    "                 inputs='inputs.xlsx', # input of data\n",
    "                 scenario='intermediate',\n",
    "                 south_south_mig = True): # climate change scenario\n",
    "        self.σ, self.θ, self.λ, self.φ, = σ, θ, λ, φ, \n",
    "        self.τ, self.μ, self.B  = τ, μ, B\n",
    "        self.tol = tol\n",
    "        self.name = name\n",
    "        \n",
    "        def get_input(which, dim): \n",
    "            ''' Function that unpacks inputs of the model '''\n",
    "            return pd.read_excel(inputs,\n",
    "            sheet_name=dim,\n",
    "            index_col=0,\n",
    "            header=list(range(len(dim))))\n",
    "\n",
    "        # Load country-specific data\n",
    "        # i = country-specific\n",
    "        data_i = get_input(inputs, 'i')\n",
    "        # irt  = country-region-time-specific\n",
    "        data_irt = get_input(inputs, 'irt')  \n",
    "        # irst = country-region-skill-time-specific\n",
    "        data_irst = get_input(inputs, 'irst')  \n",
    "        # irsbt = country-region-skill-area-time-specific\n",
    "        data_irsbt = get_input(inputs, 'irsbt')  \n",
    "        # irsbt = origin-destination-region-skill-time-specific\n",
    "        data_ijrst = get_input(inputs, 'ijrsbt') \n",
    "        \n",
    "        # Assign country-specific data\n",
    "        self.countries = data_i.index\n",
    "        self.OECD = data_i['OECD'] # OECD indicator\n",
    "        self.iso = data_i['iso3'] # iso3 Code\n",
    "        self.A = data_irt['A'] # total factor productivity\n",
    "        self.A_epsilon = data_irt['A_epsilon'] # total factor productivity used for ε calib\n",
    "        self.ω = data_irt['ω'] # \n",
    "        self.Γ__n = data_irt['Γ__n'] # high-to-low-skill fertility ratio\n",
    "        self.Γ__w = data_irt['Γ__w'] # high-to-low-skill wage ratio\n",
    "        self.L = data_irst['L'] # resident population\n",
    "        self.mii = data_irsbt['mii'] # emigrant to stayer ratio (internal)\n",
    "        self.Mij = data_ijrst['Mij'] # number of emigrants\n",
    "        self.n = data_irsbt['n']\n",
    "        self.p = data_irsbt['p']\n",
    "        \n",
    "        \n",
    "        # Climate change damage scenario\n",
    "        self.D = pd.read_excel(inputs,\n",
    "            sheet_name='scenarios',\n",
    "            index_col=0,\n",
    "            header=[0,1,2,3])[scenario]['D']\n",
    "        \n",
    "        if south_south_mig == False:\n",
    "            t = 2010\n",
    "            for r in R:\n",
    "                for s in S:\n",
    "                    self.Mij[(r,s,'d',t)] = self.Mij[(r,s,'d',t)].multiply(self.OECD,1)"
   ]
  },
  {
   "cell_type": "code",
   "execution_count": 63,
   "metadata": {
    "ExecuteTime": {
     "end_time": "2019-08-01T08:06:20.655847Z",
     "start_time": "2019-08-01T08:06:20.652054Z"
    }
   },
   "outputs": [],
   "source": [
    "def correct_south_south(self):\n",
    "    for s in S:\n",
    "        self.L[('n',s,2010)] = self.L[('n',s,2010)] + (self.Mij[('a',s,'d',2010)] + self.Mij[('n',s,'d',2010)]).multiply(1-self.OECD,1).sum()\n",
    "        \n",
    "model.correct_south_south = correct_south_south"
   ]
  },
  {
   "cell_type": "code",
   "execution_count": 64,
   "metadata": {
    "ExecuteTime": {
     "end_time": "2019-08-01T08:06:20.660468Z",
     "start_time": "2019-08-01T08:06:20.657225Z"
    },
    "code_folding": [
     0
    ]
   },
   "outputs": [],
   "source": [
    "def MidxDataFrame(self,dim,value=np.nan):\n",
    "    \"\"\" Creates multi-indexed empty dataframe with country-index\"\"\"\n",
    "    return(pd.DataFrame(value, index=self.countries,\n",
    "                        columns=pd.MultiIndex.from_product(dim)))\n",
    "\n",
    "model.MidxDataFrame = MidxDataFrame"
   ]
  },
  {
   "cell_type": "markdown",
   "metadata": {},
   "source": [
    "## Calibration methods"
   ]
  },
  {
   "cell_type": "markdown",
   "metadata": {},
   "source": [
    "### Calibration of aggregate externality ε"
   ]
  },
  {
   "cell_type": "code",
   "execution_count": 65,
   "metadata": {
    "ExecuteTime": {
     "end_time": "2019-08-01T08:06:20.671178Z",
     "start_time": "2019-08-01T08:06:20.661861Z"
    },
    "code_folding": []
   },
   "outputs": [],
   "source": [
    "def calib_epsilon(self):\n",
    "    self.ε = {'a': np.nan, 'n': np.nan} # aggregate externality\n",
    "    self.Γ__L = self.MidxDataFrame([R, [1980,2010]]) # high-to-low-skill resid. pop. ratio\n",
    "    self.A_bar = pd.DataFrame(index=self.countries) # scale factor in TFP\n",
    "\n",
    "    t = 1980\n",
    "    for r in R:\n",
    "        self.D[(r, t)] = self.D[(r, t+30)]\n",
    "    \n",
    "    for r in R:\n",
    "        for t in [1980,2010]:\n",
    "            self.Γ__L[(r,t)] = self.L[r,'h',t]/self.L[r,'l',t]\n",
    "        \n",
    "\n",
    "    df = pd.concat([self.A,self.Γ__L],1,keys=['A','Γ__L'])\n",
    "\n",
    "    def reg(r):\n",
    "        df = self.A[r].melt(var_name='year1980',value_name='A')\n",
    "        df = df.join(self.Γ__L[r].melt(var_name='year1980'\n",
    "                                       ,value_name='Γ__L')['Γ__L'])\n",
    "        df.year1980 = np.where(df.year1980 == 1980,1,0)\n",
    "        \n",
    "        reg = sm.ols(formula=\"np.log(A) ~ np.log(Γ__L) + year1980\", \n",
    "                     data=df).fit()\n",
    "\n",
    "        return(reg.params)\n",
    "\n",
    "    self.γ = reg('a')['year1980'] ** (1/30)\n",
    "    self.γ = 1.00256317290118    \n",
    "\n",
    "    t = 1980\n",
    "    for r in R:\n",
    "        self.ε[r] = 0.5 * reg(r)['np.log(Γ__L)']\n",
    "        self.A_bar[r] = self.A[(r,t)]/(self.γ * self.Γ__L[(r,t)]**self.ε[r] * self.D[(r,t)])\n",
    "    \n",
    "model.calib_epsilon = calib_epsilon"
   ]
  },
  {
   "cell_type": "markdown",
   "metadata": {},
   "source": [
    "### Calibration of skill-biased externality κ"
   ]
  },
  {
   "cell_type": "code",
   "execution_count": 66,
   "metadata": {
    "ExecuteTime": {
     "end_time": "2019-08-01T08:06:20.679887Z",
     "start_time": "2019-08-01T08:06:20.672694Z"
    },
    "code_folding": []
   },
   "outputs": [],
   "source": [
    "def calib_kappa(self):\n",
    "    self.κ = {'a': 0.0, 'n': np.nan}\n",
    "    self.Γ__η_bar = {'a': 1.32558139534884, 'n': np.nan}\n",
    "    self.Γ__L = self.MidxDataFrame([R, [2010]])\n",
    "    self.Γ__η = self.MidxDataFrame([['n'], [2010]])\n",
    "\n",
    "    for r in R:\n",
    "        self.Γ__L[(r,2010)] = self.L[(r,'h',2010)]/self.L[(r,'l',2010)]\n",
    "\n",
    "    self.Γ__η[('n',2010)] = self.Γ__w[('n',2010)] * self.Γ__L[('n',2010)]**(1/self.σ['n'])\n",
    "\n",
    "    df = pd.DataFrame({'Γ__η': self.Γ__η[('n',2010)],'Γ__L': self.Γ__L[('n',2010)]})\n",
    "\n",
    "    reg = sm.ols(formula=\"np.log(Γ__η) ~ np.log(Γ__L)\", data=df).fit()\n",
    "\n",
    "    self.κ['n'] = 0.5*reg.params['np.log(Γ__L)']\n",
    "\n",
    "    self.Γ__η_bar['n'] = np.exp(reg.params['Intercept'])\n",
    "\n",
    "model.calib_kappa = calib_kappa"
   ]
  },
  {
   "cell_type": "markdown",
   "metadata": {},
   "source": [
    "### Calibration of migration costs"
   ]
  },
  {
   "cell_type": "code",
   "execution_count": 67,
   "metadata": {
    "ExecuteTime": {
     "end_time": "2019-08-01T08:06:20.788583Z",
     "start_time": "2019-08-01T08:06:20.682278Z"
    },
    "code_folding": []
   },
   "outputs": [],
   "source": [
    "def calib_migcosts(self):\n",
    "    σ, θ, λ, φ, μ, B = self.σ, self.θ, self.λ, self.φ, self.μ, self.B\n",
    "    τ, ε, κ, Γ__η_bar = self.τ, self.ε, self.κ, self.Γ__η_bar\n",
    "    tol = self.tol\n",
    "    γ = self.γ\n",
    "    \n",
    "    t = 2010\n",
    "    \n",
    "    # Create empty dataframes for emigrant to stayer ratios, stayers and migrants\n",
    "    self.N = self.MidxDataFrame([R, S, [t]])\n",
    "    self.miF = self.MidxDataFrame([R, S, [t]])\n",
    "    self.Ms = self.MidxDataFrame([R, S, BB, [t]])\n",
    "    self.Mii = self.MidxDataFrame([R, S, BB, [t]])\n",
    "    self.MiF = self.MidxDataFrame([R, S, [t]])\n",
    "\n",
    "    for s in S:\n",
    "        N_s_hat     = (self.L[('a',s,t)] + self.L[('n',s,t)] \n",
    "                                 + (self.Mij[('a',s,'d',2010)] + self.Mij[('n',s,'d',2010)]).sum(1) \n",
    "                                 - (self.Mij[('a',s,'d',2010)] + self.Mij[('n',s,'d',2010)]).sum(0))\n",
    "        L_a_s_hat   = self.L[('a',s,2010)]\n",
    "        L_n_s_hat   = self.L[('n',s,2010)]\n",
    "        M_aF_s_hat  = self.Mij[('a',s,'d',2010)].sum(1)\n",
    "        M_nF_s_hat  = self.Mij[('n',s,'d',2010)].sum(1)\n",
    "        I_s_hat     = (self.Mij[('a',s,'d',2010)] + self.Mij[('n',s,'d',2010)]).sum(0)\n",
    "        m_an_s      = self.mii[('a',s,'d',2010)]\n",
    "        v_n_s       = 1\n",
    "\n",
    "        # for all countries: internal emigrant-to-stayer ratios of high-skilled = 0.3\n",
    "        if s == 'h':\n",
    "            m_an_s = pd.Series(0.3,index=self.countries)\n",
    "        # problematic observations: set internal emigrant to stayer ratio = 0\n",
    "        if s == 'l':\n",
    "            m_an_s.loc['Tonga'] = 0\n",
    "\n",
    "        m_aF_s = M_aF_s_hat/(L_a_s_hat - (1-v_n_s)*I_s_hat)\n",
    "        m_nF_s = M_nF_s_hat/(L_n_s_hat - m_an_s * (L_a_s_hat - (1-v_n_s)*I_s_hat) - v_n_s * I_s_hat)\n",
    "        N_a_s = (L_a_s_hat - (1-v_n_s)*I_s_hat) * (1+m_an_s+m_aF_s)\n",
    "        N_n_s = (L_n_s_hat - m_an_s * (L_a_s_hat - (1-v_n_s)*I_s_hat) - v_n_s * I_s_hat) * (1 + m_nF_s)\n",
    "        M_aa_s = N_a_s/(1 + m_an_s + m_aF_s)\n",
    "        M_nn_s = N_n_s/(1 + m_nF_s)\n",
    "        M_an_s = m_an_s * M_aa_s\n",
    "        M_aF_s = m_aF_s * M_aa_s\n",
    "        M_nF_s = m_nF_s * M_nn_s\n",
    "        RES_a = abs(N_a_s - (M_aa_s+M_aF_s+M_an_s))\n",
    "        RES_n = abs(N_n_s - (M_nn_s+M_nF_s))\n",
    "\n",
    "        self.mii[('a',s,'d',t)]  = m_an_s\n",
    "        self.mii[('n',s,'d',t)]  = 0\n",
    "        self.miF[('a',s,t)]  = m_aF_s\n",
    "        self.miF[('n',s,t)]  = m_nF_s\n",
    "        self.N[('a',s,t)]    = N_a_s\n",
    "        self.N[('n',s,t)]    = N_n_s\n",
    "        self.Ms[('a',s,'d', t)]   = M_aa_s\n",
    "        self.Ms[('n',s,'d', t)]   = M_nn_s\n",
    "        self.Mii[('a',s,'d', t)]  = M_an_s\n",
    "        self.Mii[('n',s,'d', t)]  = 0\n",
    "        self.MiF[('a',s,t)]  = M_aF_s\n",
    "        self.MiF[('n',s,t)]  = M_nF_s\n",
    "        \n",
    "    self.mij = self.MidxDataFrame([R, S, [t], list(self.countries)])\n",
    "    \n",
    "    for r in R:\n",
    "        for s in S:\n",
    "            self.mij.loc[:,(r,s)] = np.array(self.Mij[(r,s,'d',t)].multiply((1/self.Ms[(r,s,'d',t)]),0))\n",
    "            \n",
    "    \n",
    "    self.Γ__L = self.MidxDataFrame([R, [t]])\n",
    "    self.η = self.MidxDataFrame([R, S, [t]])\n",
    "    self.Γ__η = self.MidxDataFrame([R, [t]])\n",
    "    self.Γ__w = self.MidxDataFrame([R, [t]])\n",
    "    self.Y = self.MidxDataFrame([R, [t]])\n",
    "    self.w = self.MidxDataFrame([R, S, [t]])\n",
    "    self.c = self.MidxDataFrame([R, S, BB, [t]])\n",
    "    self.v = self.MidxDataFrame([R, S, BB, T])\n",
    "    self.xii = self.MidxDataFrame([R, S])\n",
    "    self.xij = self.MidxDataFrame([R, S, list(self.countries)])\n",
    "\n",
    "\n",
    "    ''' Functions '''\n",
    "    # Before we can pin down bilateral migration costs\n",
    "    # we need to identify indirect utilities:\n",
    "\n",
    "    def Γ__L_cal(r, t):\n",
    "        ''' Skill ratio in the labor force '''\n",
    "        return (self.L[(r, 'h', t)] / self.L[(r, 'l', t)])\n",
    "\n",
    "    def Γ__η_cal(r, t):\n",
    "        ''' Skill bias in relative productivity '''\n",
    "        return (Γ__η_bar[r] * self.Γ__L[(r, t)]**κ[r])\n",
    "\n",
    "    def η_cal(r, s, t):\n",
    "        ''' Relative productivity '''\n",
    "        η_h = self.Γ__η[(r, t)] / (1 + self.Γ__η[(r, t)])\n",
    "        if s == 'h':\n",
    "            return (η_h)\n",
    "        else:\n",
    "            return (1 - η_h)\n",
    "\n",
    "    def A_cal(r, t):\n",
    "        ''' Total factor productivity '''\n",
    "        return (γ**(t - t0) * self.D[(r, t)]\n",
    "                * self.A_bar[r] * self.Γ__L[(r, t)]**ε[r])\n",
    "\n",
    "    def Y_cal(r, t):\n",
    "        ''' Gross domestic product '''\n",
    "        if r == 'n':\n",
    "            return(self.A[(r, t)] \n",
    "                   * (self.η[(r, 'l', t)] * self.L[(r, 'l', t)]**((σ[r]-1)/σ[r])\n",
    "                      + self.η[(r, 'h', t)] * self.L[(r, 'h', t)]**((σ[r]-1)/σ[r]))**(σ[r]/(σ[r]-1)))\n",
    "        else:\n",
    "            return(self.A[(r, t)] * (self.η[(r, 'l', t)] * self.L[(r, 'l', t)]\n",
    "                                     + self.η[(r, 'h', t)] * self.L[(r, 'h', t)]))\n",
    "\n",
    "    def w_cal(r, s, t):\n",
    "        ''' Wage rate '''\n",
    "        if r == 'a':\n",
    "            return (η_cal(r, s, t) * self.A[(r, t)])\n",
    "        if r == 'n':\n",
    "            return (η_cal(r, s, t) * self.A[(r, t)] ** ((σ[r]-1)/σ[r]) \n",
    "                    * (Y_cal(r, t) / self.L[(r, s, t)])**(1 / σ[r]))\n",
    "\n",
    "    def Γ__w_cal(r, t):\n",
    "        ''' High-low-skilled wage ratio '''\n",
    "        return(self.w[(r, 'h', t)]/self.w[(r, 'l', t)])\n",
    "\n",
    "    def c_cal(r, s, b, t):\n",
    "        ''' Consumption '''\n",
    "        B = self.B\n",
    "        if b == 'd':\n",
    "            B = 0\n",
    "        return((1-B) * self.w[(r, s, t)] )\n",
    "\n",
    "    \n",
    "    def v_cal(r, s, b, t):\n",
    "        ''' Inner utility '''\n",
    "        return((1 - τ[r]) * self.c[(r, s, b, t)])\n",
    "    \n",
    "    \n",
    "    def xii_cal(r, s):\n",
    "        ''' internal migration cost'''\n",
    "        return(1 - self.mii[(r,s,b,t)]**μ * (self.v[(r,s,'d',t)]/self.v[('n',s,'d',t)]))\n",
    "    \n",
    "    def xij_cal(r, s):\n",
    "        '''international migration cost'''\n",
    "        vorig_over_vdest = np.outer(self.v[(r,s,'d',2010)],1/self.v[('n',s,'d',2010)])\\\n",
    "                            *(1-np.diag(np.ones(len(self.countries))))\n",
    "        return(1 - self.mij[(r,s,t)]**self.μ\n",
    "               * pd.DataFrame(vorig_over_vdest,index=self.countries,columns=self.countries))\n",
    "    \n",
    "    b = 'd'\n",
    "    for t in [1980,2010]:\n",
    "        for r in R:\n",
    "            self.D[(r, t)] = self.D[(r, t+30)]\n",
    "            self.Γ__L[(r, t)] = Γ__L_cal(r, t)\n",
    "            self.Γ__η[(r, t)] = Γ__η_cal(r, t)\n",
    "        for r in R:\n",
    "            for s in S:\n",
    "                self.η[(r, s, t)] = η_cal(r, s, t)\n",
    "            self.Y[(r, t)] = Y_cal(r, t)\n",
    "        for r in R:\n",
    "            for s in S:\n",
    "                self.w[(r, s, t)] = w_cal(r, s, t)\n",
    "        for r in R:\n",
    "            self.Γ__w[(r, t)] = Γ__w_cal(r, t)\n",
    "        for r in R:\n",
    "            for s in S:\n",
    "                self.c[(r, s, b, t)] = c_cal(r, s, b, t)\n",
    "        for r in R:\n",
    "            for s in S:\n",
    "                self.v[(r, s, b, t)] = v_cal(r, s, b, t)\n",
    "    t = 2010\n",
    "    for r in R:\n",
    "        for s in S:\n",
    "            self.xii[(r, s)] = xii_cal(r,s)\n",
    "            self.xij.loc[:,(r,s)] = np.array(xij_cal(r,s))\n",
    "            \n",
    "    # Makes sure that we have no xii or xij < 0 (needs to be checked why this occurs)\n",
    "    self.xii = np.maximum(self.xii,0)\n",
    "    self.xij = np.maximum(self.xij,0)\n",
    "            \n",
    "    Mijf = self.MidxDataFrame([R, S, ['f'], \n",
    "                           [2010],list(self.countries)]).fillna(0)\n",
    "    \n",
    "    self.Mij = self.Mij.join(Mijf)\n",
    "    \n",
    "    for r in R:\n",
    "        for s in S:\n",
    "            self.Mii[(r,s,'f',2010)] = 0\n",
    "    \n",
    "        \n",
    "model.calib_migcosts = calib_migcosts"
   ]
  },
  {
   "cell_type": "markdown",
   "metadata": {},
   "source": [
    "### Exogenous fertility"
   ]
  },
  {
   "cell_type": "code",
   "execution_count": 68,
   "metadata": {
    "ExecuteTime": {
     "end_time": "2019-08-01T08:06:20.805865Z",
     "start_time": "2019-08-01T08:06:20.790416Z"
    },
    "code_folding": []
   },
   "outputs": [],
   "source": [
    "def fertility(self):\n",
    "\n",
    "    for t in [2010,2040,2070,2100]:\n",
    "        for r in R:\n",
    "            for s in S:\n",
    "                for b in BB:\n",
    "                    self.n[(r,s,b,t)] = self.n[(r,s,'d',t)]\n",
    "                    self.p[(r,s,b,t)] = self.p[(r,s,'d',t)]      \n",
    "\n",
    "model.fertility = fertility"
   ]
  },
  {
   "cell_type": "markdown",
   "metadata": {
    "ExecuteTime": {
     "end_time": "2019-02-14T08:17:46.967159Z",
     "start_time": "2019-02-14T08:17:46.964527Z"
    }
   },
   "source": [
    "## Simulation method"
   ]
  },
  {
   "cell_type": "code",
   "execution_count": 69,
   "metadata": {
    "ExecuteTime": {
     "end_time": "2019-08-01T08:06:20.876380Z",
     "start_time": "2019-08-01T08:06:20.807525Z"
    },
    "code_folding": []
   },
   "outputs": [],
   "source": [
    "def simulate(self, max_iter=150, report=False, report_from=0):\n",
    "    \"\"\" Load  parameters \"\"\"\n",
    "    σ, θ, λ, φ, μ, B = self.σ, self.θ, self.λ, self.φ, self.μ, self.B\n",
    "    τ, ε, κ, Γ__η_bar = self.τ, self.ε, self.κ, self.Γ__η_bar\n",
    "    tol = self.tol\n",
    "    γ = self.γ\n",
    "\n",
    "    A_bar, xii, xij = self.A_bar, self.xii, self.xij\n",
    "\n",
    "    t = 1980\n",
    "    # Create empty dataframes\n",
    "    #self.N = self.MidxDataFrame([R, S, [t]])\n",
    "    self.mii = self.MidxDataFrame([R, S, BB, [t]])\n",
    "    self.mij = self.MidxDataFrame([R, S, BB, list(T), list(self.countries)])\n",
    "    self.Ms = self.MidxDataFrame([R, S, BB, [2010]])\n",
    "    self.Mij = self.MidxDataFrame([R, S, BB, list(T), list(self.countries)])\n",
    "    self.Iii = self.MidxDataFrame([R, S, [t]])\n",
    "    self.Iij = self.MidxDataFrame([R, S, [t]])\n",
    "    \n",
    "    \"\"\" Functions \"\"\"\n",
    "\n",
    "    def Γ__L_fun(r, t):\n",
    "        ''' Skill ratio in the labor force '''\n",
    "        return (self.L[(r, 'h', t)] / self.L[(r, 'l', t)])\n",
    "\n",
    "    def Γ__η_fun(r, t):\n",
    "        ''' Skill bias in relative productivity '''\n",
    "        return (Γ__η_bar[r] * self.Γ__L[(r, t)]**κ[r])\n",
    "\n",
    "    def η_fun(r, s, t):\n",
    "        ''' Relative productivity '''\n",
    "        η_h = self.Γ__η[(r, t)] / (1 + self.Γ__η[(r, t)])\n",
    "        if s == 'h':\n",
    "            return (η_h)\n",
    "        else:\n",
    "            return (1 - η_h)\n",
    "\n",
    "    def A_fun(r, t):\n",
    "        ''' Total factor productivity '''\n",
    "        return (γ**(t - t0) * self.D[(r, t)]\n",
    "                * self.A_bar[r] * self.Γ__L[(r, t)]**ε[r])\n",
    "\n",
    "    def Y_fun(r, t):\n",
    "        ''' Gross domestic product '''\n",
    "        if r == 'n':\n",
    "            return(self.A[(r, t)] * (self.η[(r, 'l', t)] * self.L[(r, 'l', t)]**((σ[r]-1)/σ[r])\n",
    "                                     + self.η[(r, 'h', t)] * self.L[(r, 'h', t)]**((σ[r]-1)/σ[r]))**(σ[r]/(σ[r]-1)))\n",
    "        else:\n",
    "            return(self.A[(r, t)] * (self.η[(r, 'l', t)] * self.L[(r, 'l', t)]\n",
    "                                     + self.η[(r, 'h', t)] * self.L[(r, 'h', t)]))\n",
    "\n",
    "    def w_fun(r, s, t):\n",
    "        ''' Wage rate '''\n",
    "        if r == 'a':\n",
    "            return (η_fun(r, s, t) * self.A[(r, t)])\n",
    "        if r == 'n':\n",
    "            return (η_fun(r, s, t) * self.A[(r, t)] ** ((σ[r]-1)/σ[r]) * (Y_fun(r, t) / self.L[(r, s, t)])**(1 / σ[r]))\n",
    "\n",
    "    def Γ__w_fun(r, t):\n",
    "        ''' High-low-skilled wage ratio '''\n",
    "        return(self.w[(r, 'h', t)]/self.w[(r, 'l', t)])\n",
    "\n",
    "    def c_fun(r, s, b, t):\n",
    "        ''' Consumption '''\n",
    "        B = self.B\n",
    "        if b == 'd':\n",
    "            B = 0\n",
    "        return((1-B) * self.w[(r, s, t)] )\n",
    "\n",
    "    \n",
    "    def v_fun(r, s, b, t):\n",
    "        ''' Inner utility '''\n",
    "        return((1 - τ[r]) * self.c[(r, s, b, t)])\n",
    "\n",
    "    def mii_fun(r, s, b, t):\n",
    "        ''' Internal emigrant to stayer ratio '''\n",
    "        rprime = set(R).difference(r).pop()\n",
    "        return(((self.v[(rprime, s, 'd', t)]/self.v[(r, s, b, t)])*(1-self.xii[(r, s)]))**(1/μ))\n",
    "\n",
    "    def mij_fun(r, s, b, t):\n",
    "        ''' International emigrant to stayer ratio'''\n",
    "        return(np.array(np.outer(self.v[('n',s,'d',t)],1/self.v[(r,s,b,t)])**(1/μ)\\\n",
    "             * (1-self.xij[(r,s)])**(1/μ) * (1-np.diag(np.ones(len(self.countries))))))    \n",
    "    \n",
    "    def Ms_fun(r, s, b, t):\n",
    "        \"\"\" Stayers \"\"\"\n",
    "        if b == 'd':\n",
    "            share = 1-self.ω[(r,t)]\n",
    "        else:\n",
    "            share = self.ω[(r,t)]\n",
    "        return((share * self.N[(r, s, t)])/\n",
    "               (1 + self.mii[(r, s, b, t)] + self.mij[(r,s,b,t)].sum(1)))\n",
    "    \n",
    "    def Mii_fun(r, s, b, t):\n",
    "        \"\"\" Internal emigrants from dry area \"\"\"\n",
    "        return(self.mii[(r, s, b, t)] * self.Ms[(r, s, b, t)])\n",
    "\n",
    "    def Mij_fun(r, s, b, t):\n",
    "        \"\"\" Internal emigrants from dry area \"\"\"\n",
    "        return(np.array(self.mij[(r,s,b,t)].multiply(self.Ms[(r,s,b,t)],0)))\n",
    "    \n",
    "    def Iii_fun(r,s,t):\n",
    "        \"\"\" Internal immigrant flow\"\"\"\n",
    "        rprime = set(R).difference(r).pop()\n",
    "        return(self.Mii[(rprime,s,'d',t)] + self.Mii[(rprime,s,'f',t)])\n",
    "\n",
    "    def Iij_fun(r, s, t):\n",
    "        ''' International immigrant flow '''\n",
    "        if r == 'a':\n",
    "            return(0)\n",
    "        else:\n",
    "            return((self.Mij[('a',s,'d',t)] + self.Mij[('a',s,'f',t)] \\\n",
    "                    + self.Mij[('n',s,'d',t)] + self.Mij[('n',s,'f',t)]).sum(0)) #### CHECK THIS AGAIN\n",
    "\n",
    "    def L_fun(r,s,t):\n",
    "        rprime = set(R).difference(r).pop()\n",
    "        L = self.Ms[(r, s, 'd', t)]  +\\\n",
    "            self.Ms[(r, s, 'f', t)]  +\\\n",
    "            self.Iii[(r,s,t)] + self.Iij[(r,s,t)]\n",
    "        return(L)\n",
    "\n",
    "    def N_fun(r, s, t):\n",
    "        ''' Native population '''\n",
    "        if t < 2040:\n",
    "            if s == 'l':\n",
    "                # probabilities to become low-skilled\n",
    "                p_l = 1 - self.p[(r, 'l', 'd', t-30)]\n",
    "                p_h = 1 - self.p[(r, 'h', 'd', t-30)]\n",
    "            else:\n",
    "                # probabilities to become high-skilled\n",
    "                p_l = self.p[(r, 'l', 'd', t-30)]\n",
    "                p_h = self.p[(r, 'h', 'd', t-30)]\n",
    "            N = self.L[(r, 'l', t-30)] * self.n[(r, 'l', 'd', t-30)] * p_l + \\\n",
    "                self.L[(r, 'h', t-30)] * self.n[(r, 'h', 'd', t-30)] * p_h\n",
    "        else:\n",
    "            rprime = set(R).difference(r).pop()\n",
    "            p_l  = self.p[(r,'h','d',t-30)]\n",
    "            p_h  = self.p[(r,'h','d',t-30)]\n",
    "            pf_l = self.p[(r,'l','f',t-30)]\n",
    "            pf_h = self.p[(r,'h','f',t-30)]\n",
    "            if s == 'l':\n",
    "                p_l = 1 - p_l\n",
    "                pf_l = 1 - pf_l\n",
    "                p_h = 1 - p_h\n",
    "                pf_h = 1 - pf_h\n",
    "            N = self.Ms[(r, 'l', 'd', t-30)]       * self.n[(r, 'l', 'd', t-30)] * p_l  +\\\n",
    "                self.Ms[(r, 'l', 'f', t-30)]       * self.n[(r, 'l', 'f', t-30)] * pf_l +\\\n",
    "                self.Mii[(rprime, 'l', 'd', t-30)] * self.n[(r, 'l', 'd', t-30)] * p_l  +\\\n",
    "                self.Mii[(rprime, 'l', 'f', t-30)] * self.n[(r, 'l', 'f', t-30)] * pf_l +\\\n",
    "                self.Ms[(r, 'h', 'd', t-30)]       * self.n[(r, 'h', 'd', t-30)] * p_l  +\\\n",
    "                self.Ms[(r, 'h', 'f', t-30)]       * self.n[(r, 'h', 'f', t-30)] * pf_l +\\\n",
    "                self.Mii[(rprime, 'h', 'd', t-30)] * self.n[(r, 'h', 'd', t-30)] * p_l  +\\\n",
    "                self.Mii[(rprime, 'h', 'f', t-30)] * self.n[(r, 'h', 'f', t-30)] * pf_l\n",
    "        return(N)\n",
    "        \n",
    "           \n",
    "    t = 1980\n",
    "    for r in R:\n",
    "        self.D[(r, t)] = self.D[(r, t+30)]\n",
    "        \n",
    "    \"\"\" 1980 Loop \"\"\"\n",
    "    def loop1980():\n",
    "        t = 1980\n",
    "        for r in R:\n",
    "            self.Γ__L[(r, t)] = Γ__L_fun(r, t)\n",
    "            self.Γ__η[(r, t)] = Γ__η_fun(r, t)\n",
    "        for r in R:\n",
    "            for s in S:\n",
    "                self.η[(r, s, t)] = η_fun(r, s, t)\n",
    "            self.Y[(r, t)] = Y_fun(r, t)\n",
    "        for r in R:\n",
    "            for s in S:\n",
    "                self.w[(r, s, t)] = w_fun(r, s, t)\n",
    "        for r in R:\n",
    "            self.Γ__w[(r, t)] = Γ__w_fun(r, t)\n",
    "        for r in R:\n",
    "            for s in S:\n",
    "                for b in BB:\n",
    "                    self.c[(r, s, b, t)] = c_fun(r, s, b, t)\n",
    "        for r in R:\n",
    "            for s in S:\n",
    "                for b in BB:\n",
    "                    self.v[(r, s, b, t)] = v_fun(r, s, b, t)\n",
    "        for r in R:\n",
    "            for s in S:\n",
    "                self.N[(r, s, t+30)] = N_fun(r, s, t+30)\n",
    "                \n",
    "    \"\"\" 2010-2040 Loop \"\"\"\n",
    "    def loop2010to2100():\n",
    "        plt.figure(figsize=(15, 4))\n",
    "        conv = 0.8 # convergence parameter\n",
    "        \n",
    "        Ts = [2010, 2040, 2070, 2100]\n",
    "        for t in Ts:\n",
    "            count = 0 # counter\n",
    "            self.ΔL = 1\n",
    "            \n",
    "            for r in R:\n",
    "                for s in S:\n",
    "                    # initial guess for L(r,s,t) = L(r,s,t-1)\n",
    "                    self.L[(r, s, t)] = self.L[(r, s, t-30)] \n",
    "            \n",
    "            # quadratic differentials in L\n",
    "            Δ = self.ΔL**2\n",
    "            # create vector to track evolution of quadratic differentials\n",
    "            self.Δ = [] \n",
    "\n",
    "            while (Δ > tol) & (count < max_iter):\n",
    "                if count > 0:\n",
    "                    # after first run, L(r,s,t) = convex combination of prediction & guess\n",
    "                    self.L[(r, s, t)] = conv * self.L[(r, s, t)] + (1-conv) * self.L_old[(r, s)]\n",
    "\n",
    "                # track old value of L\n",
    "                self.L_old = self.L.xs(t, 1, 2)\n",
    "                \n",
    "                for r in R:\n",
    "                    self.Γ__L[(r, t)] = Γ__L_fun(r, t)\n",
    "                    self.Γ__η[(r, t)] = Γ__η_fun(r, t)\n",
    "                for r in R:\n",
    "                    for s in S:\n",
    "                        self.η[(r, s, t)] = η_fun(r, s, t)\n",
    "                    self.A[(r, t)] = A_fun(r, t)\n",
    "                    self.Y[(r, t)] = Y_fun(r, t)\n",
    "                for r in R:\n",
    "                    for s in S:\n",
    "                        self.w[(r, s, t)] = w_fun(r, s, t)\n",
    "                for r in R:\n",
    "                    self.Γ__w[(r, t)] = Γ__w_fun(r, t)\n",
    "                    for s in S:\n",
    "                        for b in BB:\n",
    "                            self.c[(r, s, b, t)] = c_fun(r, s, b, t)\n",
    "                            self.v[(r, s, b, t)] = v_fun(r, s, b, t)\n",
    "                for r in R:\n",
    "                    for s in S:\n",
    "                        for b in BB:\n",
    "                            self.mii[(r, s, b, t)] = mii_fun(r, s, b, t)\n",
    "                for r in R:\n",
    "                    for s in S:\n",
    "                        for b in BB:\n",
    "                            self.mij.loc[:,(r, s, b, t)] = mij_fun(r, s, b, t)\n",
    "                for r in R:\n",
    "                    for s in S:\n",
    "                        for b in BB:\n",
    "                            self.Ms[(r, s, b, t)] = Ms_fun(r, s, b, t)\n",
    "                            self.Mii[(r, s, b, t)] = Mii_fun(r, s, b, t)\n",
    "                            self.Mij[(r, s, b, t)] = Mij_fun(r, s, b, t)\n",
    "                for r in R:\n",
    "                    for s in S:\n",
    "                        self.Iii[(r,s,t)] = Iii_fun(r, s, t)\n",
    "                        self.Iij[(r,s,t)] = Iij_fun(r, s, t)\n",
    "                for r in R:\n",
    "                    for s in S:\n",
    "                        self.L[(r, s, t)] = L_fun(r, s, t)\n",
    "                for r in R:\n",
    "                    for s in S:\n",
    "                        self.N[(r, s, t+30)] = N_fun(r, s, t+30)\n",
    "                        \n",
    "                \n",
    "                self.ΔL = ((self.L_old - self.L.xs(t, 1, 2))**2).sum().sum()\n",
    "                Δ = self.ΔL\n",
    "                self.Δ.append(Δ)\n",
    "                \n",
    "                count += 1\n",
    "               \n",
    "                \n",
    "            if report == True:\n",
    "                plt.subplot(1, len(Ts), int((t-Ts[0])/30+1))\n",
    "                plt.plot(self.Δ[report_from:max_iter])\n",
    "                plt.title('Year = '+str(t)\n",
    "                         +'\\n'+'N° of Iterations = '+str(count)\n",
    "                         +'\\n'+'ΔL = '+str(self.ΔL))\n",
    "                plt.grid(True)\n",
    "                plt.xlabel('iteration i')\n",
    "                plt.ylabel('$ΔL_i^2$')\n",
    "                plt.yscale('log')\n",
    "    plt.show()\n",
    "    \n",
    "    loop1980()\n",
    "    loop2010to2100()\n",
    "    \n",
    "model.simulate = simulate"
   ]
  },
  {
   "cell_type": "markdown",
   "metadata": {},
   "source": [
    "## Checks"
   ]
  },
  {
   "cell_type": "markdown",
   "metadata": {},
   "source": [
    "### Native population"
   ]
  },
  {
   "cell_type": "code",
   "execution_count": 70,
   "metadata": {
    "ExecuteTime": {
     "end_time": "2019-08-01T08:06:20.889493Z",
     "start_time": "2019-08-01T08:06:20.877858Z"
    },
    "code_folding": [
     0
    ]
   },
   "outputs": [],
   "source": [
    "def native_split(self,r,s,t,save=False):\n",
    "\n",
    "    path = 'population_splits/'\n",
    "    fig = plt.figure(figsize=(16,26))\n",
    "\n",
    "    split = pd.DataFrame({'stayers_d' : (self.Ms[(r,s,'d',t)]/self.N[(r,s,t)]),\n",
    "                          'stayers_f' : (self.Ms[(r,s,'f',t)]/self.N[(r,s,t)]),\n",
    "                          'internal_emigrants_d': (self.Mii[(r,s,'d',t)]/self.N[(r,s,t)]),\n",
    "                          'internal_emigrants_f': (self.Mii[(r,s,'f',t)]/self.N[(r,s,t)]),\n",
    "                          'internat_emigrants_d': (self.Mij[(r,s,'d',t)].sum(1)/self.N[(r,s,t)]),\n",
    "                          'internat_emigrants_f': (self.Mij[(r,s,'f',t)].sum(1)/self.N[(r,s,t)]),\n",
    "                          })\n",
    "\n",
    "    \n",
    "    split = split.sort_values(by=list(split))\n",
    "\n",
    "    \n",
    "    hatch = ['/']\n",
    "    for i in range(len(split)):\n",
    "        hatch.append(hatch[-1]+'/')\n",
    "    hatch =  itertools.cycle(hatch)\n",
    "    left = 0\n",
    "    for i in list(split):\n",
    "        plt.barh(split.index,split[i],left=left,label=i,hatch=next(hatch),edgecolor='white')\n",
    "        left = left + split[i]\n",
    "    ticks = [0,.25,.5,.75,1]\n",
    "    plt.tick_params(axis='both', labelsize=6)\n",
    "    plt.xticks(ticks)\n",
    "    for x in ticks:\n",
    "        if 0 < x < 1: \n",
    "            plt.axvline(x,c='k',linestyle='--')\n",
    "    plt.axvline(1,c='k')\n",
    "    #plt.tight_layout()\n",
    "    plt.legend(loc=9,ncol=3)\n",
    "    plt.title('Native population split in '+r+s+str(t))\n",
    "    plt.show()\n",
    "\n",
    "    if save == True:\n",
    "        fig.savefig(path+'N'+str(t)+r+s+'.pdf',dpi=300)\n",
    "    \n",
    "model.native_split = native_split"
   ]
  },
  {
   "cell_type": "markdown",
   "metadata": {},
   "source": [
    "### Resident population"
   ]
  },
  {
   "cell_type": "code",
   "execution_count": 71,
   "metadata": {
    "ExecuteTime": {
     "end_time": "2019-08-01T08:06:20.904136Z",
     "start_time": "2019-08-01T08:06:20.890833Z"
    },
    "code_folding": [
     0
    ]
   },
   "outputs": [],
   "source": [
    "def resident_split(self,r,s,t,save=False):\n",
    "    path = 'population_splits/'\n",
    "    fig = plt.figure(figsize=(16,26))\n",
    "    rprime = set(R).difference(r).pop()\n",
    "\n",
    "    split = pd.DataFrame({'stayers_d' : (self.Ms[(r,s,'d',t)])/self.L[(r,s,t)],\n",
    "                          'stayers_f' : (self.Ms[(r,s,'f',t)])/self.L[(r,s,t)],\n",
    "                          'internal_immigrants_d': (self.Mii[(rprime,s,'d',t)])/self.L[(r,s,t)],\n",
    "                          'internal_immigrants_f': (self.Mii[(rprime,s,'f',t)]/self.L[(r,s,t)]),\n",
    "                          'internat_immigrants_a_d': (self.Mij[('a',s,'d',t)].sum(0))/self.L[(r,s,t)],\n",
    "                          'internat_immigrants_a_f': (self.Mij[('a',s,'f',t)].sum(0))/self.L[(r,s,t)],\n",
    "                          'internat_immigrants_n_d': (self.Mij[('n',s,'d',t)].sum(0))/self.L[(r,s,t)],\n",
    "                          'internat_immigrants_n_f': (self.Mij[('n',s,'f',t)].sum(0))/self.L[(r,s,t)],\n",
    "                          })\n",
    "\n",
    "\n",
    "    if r == 'a':\n",
    "        split['internat_immigrants_a_d'] = 0\n",
    "        split['internat_immigrants_n_d'] = 0\n",
    "        split['internat_immigrants_a_f'] = 0\n",
    "        split['internat_immigrants_n_f'] = 0\n",
    "        \n",
    "    split = split.sort_values(by=list(split))\n",
    "    \n",
    "    hatch = ['/']\n",
    "    for i in range(len(split)):\n",
    "        hatch.append(hatch[-1]+'/')\n",
    "    hatch =  itertools.cycle(hatch)\n",
    "    left = 0\n",
    "    for i in list(split):\n",
    "        plt.barh(split.index,split[i],left=left,label=i,hatch=next(hatch),edgecolor='white')\n",
    "        left = left + split[i]\n",
    "    ticks = [0,.25,.5,.75,1]\n",
    "    plt.tick_params(axis='both', labelsize=6)\n",
    "    plt.xticks(ticks)\n",
    "    for x in ticks:\n",
    "        if 0 < x < 1: \n",
    "            plt.axvline(x,c='k',linestyle='--')\n",
    "    plt.axvline(1,c='k')\n",
    "    #plt.tight_layout()\n",
    "    plt.legend(loc=9,ncol=4)\n",
    "    plt.title('Resident population composition in '+r+s+str(t))\n",
    "    plt.show()\n",
    "\n",
    "    if save == True:\n",
    "        fig.savefig(path+'L'+str(t)+r+s+'.pdf',dpi=300)\n",
    "\n",
    "model.resident_split = resident_split"
   ]
  },
  {
   "cell_type": "markdown",
   "metadata": {},
   "source": [
    "### Further checks"
   ]
  },
  {
   "cell_type": "code",
   "execution_count": 72,
   "metadata": {
    "ExecuteTime": {
     "end_time": "2019-08-01T08:06:20.910163Z",
     "start_time": "2019-08-01T08:06:20.905463Z"
    },
    "code_folding": [
     0
    ]
   },
   "outputs": [],
   "source": [
    "def checks(self):\n",
    "    YminusLw = []\n",
    "    NminusL = []\n",
    "    for t in T:\n",
    "        # Total production = total income\n",
    "        YminusLw.append((self.w.xs(t,1,2)*self.L.xs(t,1,2)).sum().sum() - self.Y.xs(t,1,1).sum().sum())\n",
    "        # Total native population = total resident population\n",
    "        NminusL.append((self.N.xs(t,1,2)-self.L.xs(t,1,2)).sum().sum())\n",
    "        \n",
    "    print('YminusLw',YminusLw)\n",
    "    print('NminusL',NminusL)\n",
    "    \n",
    "model.checks = checks"
   ]
  },
  {
   "cell_type": "code",
   "execution_count": 73,
   "metadata": {},
   "outputs": [],
   "source": [
    "def urbanization(self):\n",
    "    self.u = self.MidxDataFrame([S, [min(T)]])\n",
    "\n",
    "    for t in T:\n",
    "        for s in S:\n",
    "            self.u[(s,t)] = self.L[('n',s,t)]/(self.L[('a',s,t)]+self.L[('n',s,t)])\n",
    "            \n",
    "model.urbanization = urbanization"
   ]
  },
  {
   "cell_type": "markdown",
   "metadata": {},
   "source": [
    "## Save output"
   ]
  },
  {
   "cell_type": "code",
   "execution_count": 74,
   "metadata": {
    "ExecuteTime": {
     "end_time": "2019-08-01T08:06:20.919084Z",
     "start_time": "2019-08-01T08:06:20.911750Z"
    },
    "code_folding": [
     0
    ]
   },
   "outputs": [],
   "source": [
    "def save_output(self):\n",
    "    \"\"\" Saves output of simulation \"\"\"\n",
    "\n",
    "    self.var = {\n",
    "    'irt':   ['A', 'D', 'Y', 'xii', 'Γ__L', 'Γ__n', 'Γ__w', 'Γ__η', 'ω'],\n",
    "    'irst':  ['Iii', 'Iij', 'L', 'N', 'w', 'xij', 'η'],\n",
    "    'irsbt': ['Mii', 'Ms', 'c', 'mii', 'n', 'p', 'v'],\n",
    "    'ijrsbt': ['Mij','mij'],\n",
    "    }\n",
    "\n",
    "    def output(dim):\n",
    "        var_data = [self.__dict__[v].dropna(axis=1, how='all') for v in self.var[dim]]\n",
    "        return(pd.concat(var_data, keys=self.var[dim], axis=1))\n",
    "\n",
    "    writer = pd.ExcelWriter(\n",
    "        'output/'+self.name+'_'+str(datetime.datetime.now())[:10]+'.xlsx', engine='xlsxwriter')\n",
    "\n",
    "    for dim in self.var.keys():\n",
    "        output(dim).to_excel(writer, sheet_name=dim)\n",
    "        output(dim).describe().T.to_excel(\n",
    "            writer, sheet_name=dim+'_statistics')\n",
    "    writer.save()\n",
    "    \n",
    "model.save_output = save_output"
   ]
  },
  {
   "cell_type": "markdown",
   "metadata": {},
   "source": [
    "# Simulate models"
   ]
  },
  {
   "cell_type": "markdown",
   "metadata": {},
   "source": [
    "## Model 1: Intermediate scenario with south-south migration"
   ]
  },
  {
   "cell_type": "code",
   "execution_count": 75,
   "metadata": {
    "ExecuteTime": {
     "end_time": "2019-08-01T08:07:38.047378Z",
     "start_time": "2019-08-01T08:06:20.920423Z"
    },
    "scrolled": true
   },
   "outputs": [
    {
     "data": {
      "image/png": "[encoded data removed]",
      "text/plain": [
       "<Figure size 1080x288 with 4 Axes>"
      ]
     },
     "metadata": {
      "needs_background": "light"
     },
     "output_type": "display_data"
    }
   ],
   "source": [
    "m1 = model(name='intermediate', tol=1e-5, scenario='intermediate')\n",
    "m1.correct_south_south()\n",
    "m1.calib_epsilon()\n",
    "m1.calib_kappa()\n",
    "m1.calib_migcosts()\n",
    "m1.fertility()\n",
    "m1.simulate(report=True, report_from=0, max_iter=50)"
   ]
  },
  {
   "cell_type": "code",
   "execution_count": null,
   "metadata": {},
   "outputs": [],
   "source": []
  },
  {
   "cell_type": "markdown",
   "metadata": {},
   "source": [
    "## Model 2: Minimalist scenario with south-south migration"
   ]
  },
  {
   "cell_type": "code",
   "execution_count": 16,
   "metadata": {},
   "outputs": [
    {
     "data": {
      "image/png": "[encoded data removed]",
      "text/plain": [
       "<Figure size 1080x288 with 4 Axes>"
      ]
     },
     "metadata": {
      "needs_background": "light"
     },
     "output_type": "display_data"
    }
   ],
   "source": [
    "m2 = model(name='minimalist', tol=1e-5, scenario='minimalist')\n",
    "m2.correct_south_south()\n",
    "m2.calib_epsilon()\n",
    "m2.calib_kappa()\n",
    "m2.calib_migcosts()\n",
    "m2.fertility()\n",
    "m2.simulate(report=True, report_from=0, max_iter=50)"
   ]
  },
  {
   "cell_type": "markdown",
   "metadata": {},
   "source": [
    "## Model 3: Maximalist scenario with south-south migration"
   ]
  },
  {
   "cell_type": "code",
   "execution_count": 17,
   "metadata": {},
   "outputs": [
    {
     "data": {
      "image/png": "[encoded data removed]",
      "text/plain": [
       "<Figure size 1080x288 with 4 Axes>"
      ]
     },
     "metadata": {
      "needs_background": "light"
     },
     "output_type": "display_data"
    }
   ],
   "source": [
    "m3 = model(name='maximalist', tol=1e-5, scenario='maximalist')\n",
    "m3.correct_south_south()\n",
    "m3.calib_epsilon()\n",
    "m3.calib_kappa()\n",
    "m3.calib_migcosts()\n",
    "m3.fertility()\n",
    "m3.simulate(report=True, report_from=0, max_iter=50)"
   ]
  },
  {
   "cell_type": "markdown",
   "metadata": {},
   "source": [
    "## Model 4: Intermediate scenario migration only to OECD"
   ]
  },
  {
   "cell_type": "code",
   "execution_count": 30,
   "metadata": {},
   "outputs": [
    {
     "data": {
      "image/png": "[encoded data removed]",
      "text/plain": [
       "<Figure size 1080x288 with 4 Axes>"
      ]
     },
     "metadata": {
      "needs_background": "light"
     },
     "output_type": "display_data"
    }
   ],
   "source": [
    "m4 = model(name='intermediate', tol=1e-5, scenario='intermediate',south_south_mig=False)\n",
    "m4.correct_south_south()\n",
    "m4.calib_epsilon()\n",
    "m4.calib_kappa()\n",
    "m4.calib_migcosts()\n",
    "m4.fertility()\n",
    "m4.simulate(report=True, report_from=0, max_iter=50)"
   ]
  },
  {
   "cell_type": "markdown",
   "metadata": {},
   "source": [
    "# Run some checks"
   ]
  },
  {
   "cell_type": "code",
   "execution_count": 199,
   "metadata": {},
   "outputs": [],
   "source": [
    "class check:\n",
    "    def __init__(self,\n",
    "                 name = \"Michal's results\",\n",
    "                 σ={'a': math.inf, 'n': 2.0}, # elasticity of substitution\n",
    "                 θ=0.25, # preference for children (NOT NEEDED?)\n",
    "                 λ=0.5, # elasticity of training technology (NOT NEEDED?)\n",
    "                 φ=0.14, # time to raise a child (NOT NEEDED?)\n",
    "                 μ=1.4, # 1/elasticity of mig. to wages\n",
    "                 B=0.5, # income loss due to forced discplacement\n",
    "                 τ={'a': 0.0, 'n': 0.0}, # utility loss due to CLC\n",
    "                 tol=1e-10, # tolerance parameter\n",
    "                 inputs='new_checks.xlsx', # input of data\n",
    "                 scenario='intermediate'): # climate change scenario\n",
    "        self.σ, self.θ, self.λ, self.φ, = σ, θ, λ, φ, \n",
    "        self.τ, self.μ, self.B  = τ, μ, B\n",
    "        self.tol = tol\n",
    "        self.name = name\n",
    "        \n",
    "        def get_input(which, dim): \n",
    "            ''' Function that unpacks inputs of the model '''\n",
    "            return pd.read_excel(inputs,\n",
    "            sheet_name=dim,\n",
    "            index_col=0,\n",
    "            header=list(range(len(dim))))\n",
    "\n",
    "        # Load country-specific data\n",
    "        # i = country-specific\n",
    "        data_i = get_input(inputs, 'i')\n",
    "        # irt  = country-region-time-specific\n",
    "        data_irt = get_input(inputs, 'irt')  \n",
    "        # irst = country-region-skill-time-specific\n",
    "        data_irst = get_input(inputs, 'irst')\n",
    "        # irsbt = origin-destination-region-skill-time-specific\n",
    "        data_irsbt = get_input(inputs, 'irsbt') \n",
    "        \n",
    "        # Assign country-specific data\n",
    "        self.countries = data_i.index\n",
    "        self.OECD = data_i['OECD'] # OECD indicator\n",
    "        self.iso = data_i['iso3'] # iso3 Code\n",
    "        self.A = data_irt['A'] # total factor productivity\n",
    "        self.ω = data_irt['ω'] # \n",
    "        self.L = data_irst['L'] # resident population\n",
    "        self.N = data_irst['N'] # native population\n",
    "        self.w = data_irst['N'] # native population\n",
    "        self.mii = data_irsbt['mii'] # emigrant to stayer ratio (internal)\n",
    "        self.n = data_irsbt['n']\n",
    "        self.p = data_irsbt['p']\n",
    "        \n",
    "        \n",
    "        # Climate change damage scenario\n",
    "        self.D = pd.read_excel(inputs,\n",
    "            sheet_name='scenarios',\n",
    "            index_col=0,\n",
    "            header=[0,1,2,3])[scenario]['D']"
   ]
  },
  {
   "cell_type": "code",
   "execution_count": 200,
   "metadata": {},
   "outputs": [],
   "source": [
    "m0 = check()"
   ]
  },
  {
   "cell_type": "code",
   "execution_count": null,
   "metadata": {
    "ExecuteTime": {
     "end_time": "2019-08-01T08:09:55.945166Z",
     "start_time": "2019-08-01T08:07:38.049196Z"
    },
    "code_folding": [
     1
    ],
    "scrolled": true
   },
   "outputs": [],
   "source": [
    "mx = m4\n",
    "for t in T[1:]:\n",
    "    for r in R:\n",
    "        for s in S:\n",
    "            mx.native_split(r,s,t)            \n",
    "    for r in R:\n",
    "        for s in S:\n",
    "            mx.resident_split(r,s,t)\n"
   ]
  },
  {
   "cell_type": "code",
   "execution_count": 239,
   "metadata": {},
   "outputs": [],
   "source": [
    "def compare_models(model1, model2, num=7,size=10):\n",
    "    num = 5\n",
    "    tol = 0\n",
    "    markers = ['o','^','s','x']\n",
    "\n",
    "    size = 10\n",
    "    for i in sorted(list(model1.__dict__)):\n",
    "        elem = model1.__dict__[i]\n",
    "        if isinstance(elem, pd.DataFrame):\n",
    "            levels = [list(x) for x in elem.columns.levels]\n",
    "            tuples = list(itertools.product(*levels))\n",
    "            tuples = sorted(list(tuples),key=lambda x: x[len(tuples[0])-1])\n",
    "            for tup in tuples:\n",
    "                plt.figure(figsize=(size, size))\n",
    "                y = model1.__dict__[i][tup]\n",
    "                x = model2.__dict__[i][tup]\n",
    "                sns.regplot(x, y, \n",
    "                            fit_reg = True,\n",
    "                            scatter = True,\n",
    "                            scatter_kws={'s': 25, 'alpha': 0.7}\n",
    "                            )\n",
    "                lims = [min(x.append(y)), max(x.append(y))]\n",
    "                z = np.linspace(lims[0],lims[1])\n",
    "                plt.plot(z,z,color='k')\n",
    "                plt.xlim(lims)\n",
    "                plt.ylim(lims)\n",
    "                plt.xlabel(model2.name)\n",
    "                plt.ylabel(model1.name)\n",
    "                plt.xscale('log')\n",
    "                plt.yscale('log')\n",
    "                plt.title(i+' ['+str(tup)+']')\n",
    "                plt.show()\n"
   ]
  },
  {
   "cell_type": "code",
   "execution_count": null,
   "metadata": {},
   "outputs": [],
   "source": [
    "compare_models(m1,m0)"
   ]
  },
  {
   "cell_type": "markdown",
   "metadata": {},
   "source": [
    "# References\n",
    "\n",
    "(<a id=\"cit-Burzynski2018\" href=\"#call-Burzynski2018\">Burzynski, Deuster <em>et al.</em>, 2018</a>) Burzynski Michal, Deuster Christoph, Docquier Frederic <em>et al.</em>, ``_Climate change, Inequality and Migration_'', Working paper, vol. , number , pp. , January 2018.  [online](https://perso.uclouvain.be/frederic.docquier/filePDF/BDDD_Nova2018.pdf)\n",
    "\n"
   ]
  }
 ],
 "metadata": {
  "kernelspec": {
   "display_name": "Python 3",
   "language": "python",
   "name": "python3"
  },
  "language_info": {
   "codemirror_mode": {
    "name": "ipython",
    "version": 3
   },
   "file_extension": ".py",
   "mimetype": "text/x-python",
   "name": "python",
   "nbconvert_exporter": "python",
   "pygments_lexer": "ipython3",
   "version": "3.7.4"
  },
  "latex_envs": {
   "LaTeX_envs_menu_present": true,
   "autoclose": false,
   "autocomplete": true,
   "bibliofile": "biblio.bib",
   "cite_by": "apalike",
   "current_citInitial": 1,
   "eqLabelWithNumbers": true,
   "eqNumInitial": 1,
   "hotkeys": {
    "equation": "Ctrl-E",
    "itemize": "Ctrl-I"
   },
   "labels_anchors": false,
   "latex_user_defs": false,
   "report_style_numbering": false,
   "user_envs_cfg": false
  },
  "toc": {
   "base_numbering": 1,
   "nav_menu": {},
   "number_sections": true,
   "sideBar": true,
   "skip_h1_title": false,
   "title_cell": "Table of Contents",
   "title_sidebar": "Contents",
   "toc_cell": false,
   "toc_position": {
    "height": "calc(100% - 180px)",
    "left": "10px",
    "top": "150px",
    "width": "173px"
   },
   "toc_section_display": true,
   "toc_window_display": true
  },
  "varInspector": {
   "cols": {
    "lenName": 16,
    "lenType": 16,
    "lenVar": 40
   },
   "kernels_config": {
    "python": {
     "delete_cmd_postfix": "",
     "delete_cmd_prefix": "del ",
     "library": "var_list.py",
     "varRefreshCmd": "print(var_dic_list())"
    },
    "r": {
     "delete_cmd_postfix": ") ",
     "delete_cmd_prefix": "rm(",
     "library": "var_list.r",
     "varRefreshCmd": "cat(var_dic_list()) "
    }
   },
   "types_to_exclude": [
    "module",
    "function",
    "builtin_function_or_method",
    "instance",
    "_Feature"
   ],
   "window_display": false
  }
 },
 "nbformat": 4,
 "nbformat_minor": 2
}
