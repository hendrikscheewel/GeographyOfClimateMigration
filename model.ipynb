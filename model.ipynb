{
 "cells": [
  {
   "cell_type": "markdown",
   "metadata": {},
   "source": [
    "This code: *Hendrik Scheewel* (hendrik.scheewel@uliege.be)\n",
    "\n",
    "Joint project with: *Frédéric Docquier*, *Michał Burzyński*"
   ]
  },
  {
   "cell_type": "markdown",
   "metadata": {},
   "source": [
    "# Load packages"
   ]
  },
  {
   "cell_type": "code",
   "execution_count": 1,
   "metadata": {
    "ExecuteTime": {
     "end_time": "2019-08-30T12:27:17.834685Z",
     "start_time": "2019-08-30T12:27:17.828878Z"
    },
    "code_folding": []
   },
   "outputs": [],
   "source": [
    "# import packages\n",
    "import pandas as pd\n",
    "import numpy as np\n",
    "import math\n",
    "import datetime\n",
    "from numba import jit, vectorize, float64, guvectorize, njit\n",
    "import matplotlib.pyplot as plt\n",
    "from IPython.display import HTML\n",
    "import seaborn as sns\n",
    "sns.set_palette('Paired')\n",
    "import itertools\n",
    "from scipy.optimize import minimize\n",
    "import statsmodels.formula.api as sm\n",
    "import io\n",
    "import requests\n",
    "colors = sns.color_palette()\n",
    "sns.set()\n",
    "from scipy.stats import gaussian_kde\n",
    "from itertools import cycle\n",
    "sns.set(style=\"white\")\n",
    "from string import ascii_lowercase as abc\n",
    "from matplotlib import rcParams\n",
    "rcParams['font.family'] = 'monospace'"
   ]
  },
  {
   "cell_type": "code",
   "execution_count": 2,
   "metadata": {
    "ExecuteTime": {
     "end_time": "2019-08-30T12:27:17.840951Z",
     "start_time": "2019-08-30T12:27:17.837307Z"
    }
   },
   "outputs": [],
   "source": [
    "R = ('a', 'n')                      # regions\n",
    "S = ('l', 'h')                      # skills\n",
    "B = ('d', 'f')                      # areas\n",
    "T = (1980, 2010, 2040, 2070, 2100)  # periods of interest\n",
    "t0 = 1950                           # first period"
   ]
  },
  {
   "cell_type": "markdown",
   "metadata": {
    "toc-hr-collapsed": false
   },
   "source": [
    "# Simulation class"
   ]
  },
  {
   "cell_type": "code",
   "execution_count": 3,
   "metadata": {
    "ExecuteTime": {
     "end_time": "2019-08-30T12:27:17.856858Z",
     "start_time": "2019-08-30T12:27:17.843256Z"
    },
    "code_folding": [
     0
    ]
   },
   "outputs": [],
   "source": [
    "class model:\n",
    "    def __init__(self,\n",
    "                 name, # name of the model instance\n",
    "                 σ={'a': math.inf, 'n': 2.0}, # elasticity of substitution\n",
    "                 μ=1.4, # 1/elasticity of mig. to wages\n",
    "                 χ={'d': 0.0, 'f': 0.5}, # income loss due to forced discplacement\n",
    "                 τ={'a': 0.0, 'n': 0.0}, # utility loss due to CLC\n",
    "                 tol=1e-10, # tolerance parameter\n",
    "                 inputs='inputs.xlsx', # input of data\n",
    "                 scenario='intermediate',): # climate change scenario\n",
    "        \n",
    "        self.σ, self.τ, self.μ, self.χ, self.tol  = σ, τ, μ, χ, tol\n",
    "        \n",
    "        self.name = name\n",
    "        \n",
    "        def get_input(which, dim): \n",
    "            ''' Function that unpacks inputs of the model '''\n",
    "            return pd.read_excel(inputs,\n",
    "            sheet_name=dim,\n",
    "            index_col=0,\n",
    "            header=list(range(len(dim)))).sort_index()\n",
    "\n",
    "        # Load country-specific data\n",
    "        # i = country-specific\n",
    "        data_i = get_input(inputs, 'i')\n",
    "        data_i.index.name = 'Country'\n",
    "        # irt  = country-region-time-specific\n",
    "        data_irt = get_input(inputs, 'irt')\n",
    "        data_irt.columns.names = ['Variable','r','t']\n",
    "        data_irt.index.name = 'Country'\n",
    "        # irst = country-region-skill-time-specific\n",
    "        data_irst = get_input(inputs, 'irst')\n",
    "        data_irst.columns.names = ['Variable','r','s','t']\n",
    "        data_irst.index.name = 'Country'\n",
    "        # irsbt = country-region-skill-area-time-specific\n",
    "        data_irsbt = get_input(inputs, 'irsbt')  \n",
    "        data_irsbt.columns.names = ['Variable','r','s','b','t']\n",
    "        data_irsbt.index.name = 'Country'\n",
    "        # irsbt = origin-destination-region-skill-time-specific\n",
    "        data_ijrst = get_input(inputs, 'ijrsbt') \n",
    "        data_ijrst.columns.names = ['Variable','r','s','b','t','Destination']\n",
    "        data_ijrst.index.name = 'Country'\n",
    "        \n",
    "        # Assign country-specific data\n",
    "        self.countries = data_i.index\n",
    "        self.OECD = data_i['OECD'] # OECD indicator\n",
    "        self.iso = data_i['iso3'] # iso3 Code\n",
    "        self.wbregion = data_i['wbregion'] # World Bank region\n",
    "        self.income_group = data_i['income_group'] # Income group\n",
    "        self.georegion = data_i['georegion'] # Geographical region\n",
    "        self.Y = data_irt['Y'] # GDP\n",
    "        self.Γ__n = data_irt['Γ__n'] # high-to-low-skill fertility ratio\n",
    "        self.Γ__w = data_irt['Γ__w'] # high-to-low-skill wage ratio\n",
    "        self.L = data_irst['L'] # resident population\n",
    "        self.mii = data_irsbt['mii'] # emigrant to stayer ratio (internal)\n",
    "        self.Mij = data_ijrst['Mij'] # number of emigrants\n",
    "        self.n = data_irsbt['n']\n",
    "        self.p = data_irsbt['p']\n",
    "        \n",
    "        \n",
    "        # Climate change damage scenario\n",
    "        self.D = pd.read_excel(inputs,\n",
    "            sheet_name='scenarios',\n",
    "            index_col=0,\n",
    "            header=[0,1,2,3])[scenario]['D']\n",
    "        \n",
    "        self.ω = pd.read_excel(inputs,\n",
    "            sheet_name='scenarios',\n",
    "            index_col=0,\n",
    "            header=[0,1,2,3])[scenario]['ω']\n",
    "        "
   ]
  },
  {
   "cell_type": "code",
   "execution_count": 4,
   "metadata": {
    "ExecuteTime": {
     "end_time": "2019-08-30T12:27:17.864387Z",
     "start_time": "2019-08-30T12:27:17.858971Z"
    }
   },
   "outputs": [],
   "source": [
    "def correct_south_south(self):\n",
    "    for s in S:\n",
    "        self.L[('n',s,2010)] = self.L[('n',s,2010)] +\\\n",
    "        (self.Mij.xs(['a',s,'d',2010],1,[0,1,2,3]) \n",
    "         + self.Mij.xs(['n',s,'d',2010],1,[0,1,2,3])).multiply(1-self.OECD,1).sum()\n",
    "        \n",
    "model.correct_south_south = correct_south_south"
   ]
  },
  {
   "cell_type": "code",
   "execution_count": 5,
   "metadata": {
    "ExecuteTime": {
     "end_time": "2019-08-30T12:27:17.870307Z",
     "start_time": "2019-08-30T12:27:17.866607Z"
    },
    "code_folding": [
     0
    ]
   },
   "outputs": [],
   "source": [
    "def MidxDataFrame(self,dim,value=np.nan,names=None):\n",
    "    \"\"\" Creates multi-indexed empty dataframe with country-index\"\"\"\n",
    "    return(pd.DataFrame(value, index=self.countries,\n",
    "                        columns=pd.MultiIndex.from_product(dim,names=names)).sort_index())\n",
    "\n",
    "model.MidxDataFrame = MidxDataFrame"
   ]
  },
  {
   "cell_type": "code",
   "execution_count": 6,
   "metadata": {
    "ExecuteTime": {
     "end_time": "2019-08-30T12:27:17.870307Z",
     "start_time": "2019-08-30T12:27:17.866607Z"
    },
    "code_folding": [
     0
    ]
   },
   "outputs": [],
   "source": [
    "def MidxDataFrame(self,dim,value=np.nan):\n",
    "    \"\"\" Creates multi-indexed empty dataframe with country-index\"\"\"\n",
    "    \n",
    "    MultiIndexDic = {\n",
    "    'irt': {\n",
    "        'levels': [R,T],\n",
    "        'names': ['r','t'],\n",
    "    },\n",
    "    'ist': {\n",
    "        'levels': [S,T],\n",
    "        'names': ['s','t'],\n",
    "    },\n",
    "    'irs': {\n",
    "        'levels': [R,S],\n",
    "        'names': ['r','s'],\n",
    "    },\n",
    "    'irst': {\n",
    "        'levels': [R,S,T],\n",
    "        'names': ['r','s','t'],\n",
    "    },\n",
    "    'irsbt': {\n",
    "        'levels': [R,S,B,T],\n",
    "        'names': ['r','s','b','t'],\n",
    "    },\n",
    "    'ijrs': {\n",
    "        'levels': [R,S,list(self.countries)],\n",
    "        'names': ['r','s','Destination'],\n",
    "    },\n",
    "    'ijrst': {\n",
    "        'levels': [R,S,T,list(self.countries)],\n",
    "        'names': ['r','s','t','Destination']\n",
    "    },\n",
    "    'ijrsbt': {\n",
    "        'levels': [R,S,B,T,list(self.countries)],\n",
    "        'names': ['r','s','b','t','Destination']\n",
    "    },\n",
    "    'ijrsft': {\n",
    "        'levels': [R,S,['f'],T,list(self.countries)],\n",
    "        'names': ['r','s','b','t','Destination']}}\n",
    "    \n",
    "    \n",
    "    return(pd.DataFrame(value, index=self.countries,\n",
    "                        columns=pd.MultiIndex.from_product(\n",
    "                            MultiIndexDic[dim]['levels'],\n",
    "                            names=MultiIndexDic[dim]['names'])))\n",
    "\n",
    "model.MidxDataFrame = MidxDataFrame"
   ]
  },
  {
   "cell_type": "markdown",
   "metadata": {},
   "source": [
    "## Calibration methods"
   ]
  },
  {
   "cell_type": "markdown",
   "metadata": {},
   "source": [
    "### Calibration of skill-biased externality κ"
   ]
  },
  {
   "cell_type": "code",
   "execution_count": 7,
   "metadata": {
    "ExecuteTime": {
     "end_time": "2019-08-30T12:27:17.883032Z",
     "start_time": "2019-08-30T12:27:17.872563Z"
    },
    "code_folding": [
     0
    ]
   },
   "outputs": [],
   "source": [
    "def calib_kappa(self):\n",
    "    self.κ = {'a': 0.0, 'n': np.nan}\n",
    "    self.Γ__η_bar = {'a': 1.32558139534884, 'n': np.nan}\n",
    "    self.Γ__L = self.MidxDataFrame('irt')\n",
    "    self.Γ__η = self.MidxDataFrame('irt')\n",
    "\n",
    "    def Γ__L(r, t):\n",
    "        return(self.L[(r,'h',t)]/self.L[(r,'l',t)])\n",
    "    \n",
    "    def Γ__η_cal(r, t):\n",
    "        if r == 'n':\n",
    "            return(self.Γ__w[(r,t)] * self.Γ__L[(r,t)]**(1/self.σ[r]))\n",
    "        else:\n",
    "            return(self.Γ__η_bar[r])\n",
    "    \n",
    "    for t in [1980,2010]:\n",
    "        for r in R:\n",
    "            self.Γ__L[(r,t)] = Γ__L(r, t)\n",
    "            self.Γ__η[(r,t)] = Γ__η_cal(r, t)\n",
    "\n",
    "    t = 2010\n",
    "    df = pd.DataFrame({'Γ__η': self.Γ__η[('n',t)],'Γ__L': self.Γ__L[('n',t)]})\n",
    "\n",
    "    reg = sm.ols(formula=\"np.log(Γ__η) ~ np.log(Γ__L)\", data=df).fit()\n",
    "\n",
    "    self.κ['n'] = 0.5*reg.params['np.log(Γ__L)']\n",
    "\n",
    "    self.Γ__η_bar['n'] = np.exp(reg.params['Intercept'])\n",
    "\n",
    "model.calib_kappa = calib_kappa"
   ]
  },
  {
   "cell_type": "markdown",
   "metadata": {},
   "source": [
    "### Calibration of Total factor productivity A"
   ]
  },
  {
   "cell_type": "code",
   "execution_count": 8,
   "metadata": {
    "ExecuteTime": {
     "end_time": "2019-08-30T12:27:17.897087Z",
     "start_time": "2019-08-30T12:27:17.884897Z"
    },
    "code_folding": [
     0
    ]
   },
   "outputs": [],
   "source": [
    "def calib_A(self):\n",
    "    σ = self.σ\n",
    "    \n",
    "    self.η = self.MidxDataFrame('irst')\n",
    "    self.A = self.MidxDataFrame('irt')\n",
    "    \n",
    "    def η_cal(r, s, t):\n",
    "        ''' Relative productivity '''\n",
    "        η_h = self.Γ__η[(r, t)] / (1 + self.Γ__η[(r, t)])\n",
    "        if s == 'h':\n",
    "            return (η_h)\n",
    "        else:\n",
    "            return (1 - η_h)\n",
    "        \n",
    "    def A_cal(r, t):\n",
    "        ''' TFP '''\n",
    "        if r == 'a':\n",
    "            return((self.Y[(r, t)]) /\n",
    "                  (self.η[(r,'l',t)] * self.L[(r,'l',t)] +\n",
    "                   self.η[(r,'h',t)] * self.L[(r,'l',t)]))\n",
    "        else:\n",
    "            return(self.Y[(r, t)] /\n",
    "                 (self.η[(r,'l',t)] * (self.L[(r,'l',t)])**((σ[r]-1)/σ[r]) +\n",
    "                  self.η[(r,'h',t)] * (self.L[(r,'l',t)])**((σ[r]-1)/σ[r]))**(σ[r]/(σ[r]-1)))\n",
    "    \n",
    "    for t in [1980,2010]:\n",
    "        for r in R:\n",
    "            for s in S:\n",
    "                self.η[(r, s, t)] = η_cal(r, s, t)\n",
    "        \n",
    "    for t in [1980,2010]:\n",
    "        for r in R:\n",
    "            self.A[(r,t)] = A_cal(r, t)\n",
    "\n",
    "model.calib_A = calib_A"
   ]
  },
  {
   "cell_type": "markdown",
   "metadata": {},
   "source": [
    "### Calibration of aggregate externality ε"
   ]
  },
  {
   "cell_type": "code",
   "execution_count": 9,
   "metadata": {
    "ExecuteTime": {
     "end_time": "2019-08-30T12:27:17.908581Z",
     "start_time": "2019-08-30T12:27:17.898558Z"
    },
    "code_folding": [
     0
    ]
   },
   "outputs": [],
   "source": [
    "def calib_epsilon(self):\n",
    "    self.ε = {'a': np.nan, 'n': np.nan} # aggregate externality\n",
    "    self.Γ__L = self.MidxDataFrame('irt') # high-to-low-skill resid. pop. ratio\n",
    "    self.A_bar = pd.DataFrame(index=self.countries) # scale factor in TFP\n",
    "\n",
    "    t = 1980\n",
    "    for r in R:\n",
    "        for t in [1980,2010]:\n",
    "            self.Γ__L[(r,t)] = self.L[r,'h',t]/self.L[r,'l',t]\n",
    "        \n",
    "    df = pd.concat([self.A,self.Γ__L],1,keys=['A','Γ__L'])\n",
    "\n",
    "    def reg(r):\n",
    "        df = self.A[r].melt(var_name='year1980',value_name='A')\n",
    "        df = df.join(self.Γ__L[r].melt(var_name='year1980'\n",
    "                                       ,value_name='Γ__L')['Γ__L'])\n",
    "        df['year1980'] = np.where(df.year1980 == 1980,1,0)\n",
    "        \n",
    "        reg = sm.ols(formula=\"np.log(A) ~ np.log(Γ__L) + year1980\", \n",
    "                     data=df).fit()\n",
    "\n",
    "        return(reg.params)\n",
    "\n",
    "    self.γ = reg('a')['year1980'] ** (1/30)\n",
    "    self.γ = 1.00256317290118    \n",
    "\n",
    "    t = 1980\n",
    "    for r in R:\n",
    "        self.ε[r] = 0.5 * reg(r)['np.log(Γ__L)']\n",
    "        self.A_bar[r] = self.A[(r,t)]/(self.γ * self.Γ__L[(r,t)]**self.ε[r] * self.D[(r,t)])\n",
    "    \n",
    "model.calib_epsilon = calib_epsilon"
   ]
  },
  {
   "cell_type": "markdown",
   "metadata": {},
   "source": [
    "### Calibration of migration costs"
   ]
  },
  {
   "cell_type": "code",
   "execution_count": 128,
   "metadata": {
    "ExecuteTime": {
     "end_time": "2019-08-30T12:27:17.961403Z",
     "start_time": "2019-08-30T12:27:17.910929Z"
    },
    "code_folding": [
     0
    ]
   },
   "outputs": [],
   "source": [
    "def calib_migcosts(self):\n",
    "    σ, μ = self.σ, self.μ\n",
    "    τ, ε, κ, Γ__η_bar = self.τ, self.ε, self.κ, self.Γ__η_bar\n",
    "    tol = self.tol\n",
    "    γ = self.γ\n",
    "    \n",
    "    t = 2010\n",
    "    \n",
    "    # Create empty dataframes for emigrant to stayer ratios, stayers and migrants\n",
    "    self.N = self.MidxDataFrame('irst')\n",
    "    self.miF = self.MidxDataFrame('irst')\n",
    "    self.Ms = self.MidxDataFrame('irsbt')\n",
    "    self.Mii = self.MidxDataFrame('irsbt')\n",
    "    self.MiF = self.MidxDataFrame('irst')\n",
    "\n",
    "    for s in S:\n",
    "        v_n_s       = 1 # share of immigrants that goes to urban area\n",
    "        m_an_s      = self.mii[('a',s,'d',2010)] # exog. rural internal emigrant-to-stayer ratio\n",
    "        m_na_s      = 0 # urban internal emigrant-to-stayer ratio\n",
    "        \n",
    "        L_a_s_hat   = self.L[('a',s,2010)] # rural residents\n",
    "        L_n_s_hat   = self.L[('n',s,2010)] # urban residents\n",
    "        L_s_hat     = L_a_s_hat + L_n_s_hat # all residents\n",
    "        \n",
    "        M_aF_s_hat  = self.Mij.xs(['a',s,'d',2010],1,[0,1,2,3]).sum(1) # rural emigrants\n",
    "        M_nF_s_hat  = self.Mij.xs(['n',s,'d',2010],1,[0,1,2,3]).sum(1) # urban emigrants\n",
    "        M_F_s_hat   = M_aF_s_hat + M_nF_s_hat # all emigrants\n",
    "        \n",
    "        I_Fa_s_hat  = self.Mij.xs(['a',s,'d',2010],1,[0,1,2,3]).sum(0) # rural immigrants\n",
    "        I_Fn_s_hat  = self.Mij.xs(['n',s,'d',2010],1,[0,1,2,3]).sum(0) # urban immigrants\n",
    "        I_s_hat     = I_Fa_s_hat + I_Fn_s_hat # all immigrants\n",
    "        \n",
    "        N_s_hat     = L_s_hat + M_F_s_hat - I_s_hat # all natives\n",
    "\n",
    "        # for all countries: internal emigrant-to-stayer ratios of high-skilled = 0.3\n",
    "        if s == 'h':\n",
    "            m_an_s = pd.Series(0.3,index=self.countries)\n",
    "        # problematic observations: set internal emigrant to stayer ratio = 0\n",
    "        if s == 'l':\n",
    "            m_an_s.loc['Tonga'] = 0\n",
    "\n",
    "        M_aa_s = L_a_s_hat - (1 - v_n_s) * I_s_hat # rural stayers = residents - immigrants\n",
    "        m_aF_s = M_aF_s_hat/M_aa_s # rural internat. emigrant-to-stayer ratio\n",
    "        M_nn_s = L_n_s_hat - m_an_s * M_aa_s - v_n_s * I_s_hat # urban stayers\n",
    "        m_nF_s = M_nF_s_hat/M_nn_s # urban internat. emigrant-to-stayer ratio\n",
    "        \n",
    "        N_a_s  = M_aa_s * (1 + m_an_s + m_aF_s) # rural natives\n",
    "        N_n_s  = M_nn_s * (1 + m_na_s + m_nF_s) # urban natives\n",
    "        \n",
    "        M_an_s = m_an_s * M_aa_s # rural internal emigrants\n",
    "        M_na_s = m_na_s * M_nn_s # urban internal emigrants\n",
    "        \n",
    "        M_aF_s = m_aF_s * M_aa_s # rural internat. emigrants\n",
    "        M_nF_s = m_nF_s * M_nn_s # urban internat. emigrants\n",
    "        \n",
    "        RES_a  = abs(N_a_s - (M_aa_s + M_aF_s + M_an_s)) # residual\n",
    "        RES_n  = abs(N_n_s - (M_nn_s + M_nF_s + M_na_s)) # residual\n",
    "\n",
    "        # Assign derived values to dataframes\n",
    "        self.mii[('a',s,'d',t)]  = m_an_s # internal rural emigrant-to-stayer ratio\n",
    "        self.mii[('n',s,'d',t)]  = m_na_s # internal urban emigrant-to-stayer ratio\n",
    "        \n",
    "        self.miF[('a',s,t)]      = m_aF_s # internat. rural emigrant-to-stayer ratio\n",
    "        self.miF[('n',s,t)]      = m_nF_s # internat. urban emigrant-to-stayer ratio\n",
    "        \n",
    "        self.N[('a',s,t)]        = N_a_s  # rural natives\n",
    "        self.N[('n',s,t)]        = N_n_s  # urban natives\n",
    "        \n",
    "        self.Ms[('a',s,'d', t)]  = M_aa_s # rural stayers\n",
    "        self.Ms[('n',s,'d', t)]  = M_nn_s # urban stayers\n",
    "        \n",
    "        self.Mii[('a',s,'d', t)] = M_an_s # rural internal emigrants\n",
    "        self.Mii[('n',s,'d', t)] = M_na_s # urban internal emigrants\n",
    "        \n",
    "        self.MiF[('a',s,t)]      = M_aF_s # rural internat. emigrants\n",
    "        self.MiF[('n',s,t)]      = M_nF_s # urban internat. emigrants\n",
    "        \n",
    "    self.mij = self.MidxDataFrame('ijrsbt')\n",
    "    \n",
    "    for r in R:\n",
    "        for s in S:\n",
    "            self.mij[(r,s,'d',t)] = np.array(self.Mij[(r,s,'d',t)].multiply((1/self.Ms[(r,s,'d',t)]),0))\n",
    "\n",
    "    # Create new empty dataframes for variables to derive\n",
    "    self.Γ__L = self.MidxDataFrame('irt')\n",
    "    self.η = self.MidxDataFrame('irst')\n",
    "    self.Γ__η = self.MidxDataFrame('irt')\n",
    "    self.Γ__w = self.MidxDataFrame('irt')\n",
    "    self.Y = self.MidxDataFrame('irt')\n",
    "    self.w = self.MidxDataFrame('irst')\n",
    "    self.c = self.MidxDataFrame('irsbt')\n",
    "    self.v = self.MidxDataFrame('irsbt')\n",
    "    self.V = self.MidxDataFrame('ijrsbt')\n",
    "    self.xii = self.MidxDataFrame('irs')\n",
    "    self.xij = self.MidxDataFrame('ijrs')\n",
    "\n",
    "\n",
    "    ''' Functions '''\n",
    "    # Before we can pin down bilateral migration costs\n",
    "    # we need to identify indirect utilities:\n",
    "\n",
    "    def Γ__L_cal(r, t):\n",
    "        ''' Skill ratio in the labor force '''\n",
    "        return (self.L[(r, 'h', t)] / self.L[(r, 'l', t)])\n",
    "\n",
    "    def Γ__η_cal(r, t):\n",
    "        ''' Skill bias in relative productivity '''\n",
    "        return (Γ__η_bar[r] * self.Γ__L[(r, t)]**κ[r])\n",
    "\n",
    "    def η_cal(r, s, t):\n",
    "        ''' Relative productivity '''\n",
    "        η_h = self.Γ__η[(r, t)] / (1 + self.Γ__η[(r, t)])\n",
    "        if s == 'h':\n",
    "            return (η_h)\n",
    "        else:\n",
    "            return (1 - η_h)\n",
    "\n",
    "    def A_cal(r, t):\n",
    "        ''' Total factor productivity '''\n",
    "        return (γ**(t - t0) * self.D[(r, t)]\n",
    "                * self.A_bar[r] * self.Γ__L[(r, t)]**ε[r])\n",
    "\n",
    "    def Y_cal(r, t):\n",
    "        ''' Gross domestic product '''\n",
    "        if r == 'n':\n",
    "            return(self.A[(r, t)] \n",
    "                   * (self.η[(r, 'l', t)] * self.L[(r, 'l', t)]**((σ[r]-1)/σ[r])\n",
    "                      + self.η[(r, 'h', t)] * self.L[(r, 'h', t)]**((σ[r]-1)/σ[r]))**(σ[r]/(σ[r]-1)))\n",
    "        else:\n",
    "            return(self.A[(r, t)] * (self.η[(r, 'l', t)] * self.L[(r, 'l', t)]\n",
    "                                     + self.η[(r, 'h', t)] * self.L[(r, 'h', t)]))\n",
    "\n",
    "    def w_cal(r, s, t):\n",
    "        ''' Wage rate '''\n",
    "        if r == 'a':\n",
    "            return (η_cal(r, s, t) * self.A[(r, t)])\n",
    "        if r == 'n':\n",
    "            return (η_cal(r, s, t) * self.A[(r, t)] ** ((σ[r]-1)/σ[r]) \n",
    "                    * (Y_cal(r, t) / self.L[(r, s, t)])**(1 / σ[r]))\n",
    "\n",
    "    def Γ__w_cal(r, t):\n",
    "        ''' High-low-skilled wage ratio '''\n",
    "        return(self.w[(r, 'h', t)]/self.w[(r, 'l', t)])\n",
    "\n",
    "    def c_cal(r, s, b, t):\n",
    "        ''' Consumption '''\n",
    "        return(self.w[(r, s, t)])\n",
    "\n",
    "    def v_cal(r, s, b, t):\n",
    "        ''' Inner utility '''\n",
    "        return((1 - τ[r]) * self.c[(r, s, b, t)])\n",
    "    \n",
    "    def V_cal(r, s, b, t):\n",
    "        ''' Relative utility between two regions '''\n",
    "        return(np.outer(1/self.v[(r,s,b,t)],self.v[('n',s,'d',t)]))\n",
    "    \n",
    "    # The following two functions are the inverse functions of mii and mij\n",
    "    def xii_cal(r, s):\n",
    "        ''' internal migration cost'''\n",
    "        return(1 - self.mii[(r,s,b,2010)]**μ * (self.v[(r,s,'d',2010)]/self.v[('n',s,'d',2010)]))\n",
    "    \n",
    "    def xij_cal(r, s):\n",
    "        ''' international migration cost '''\n",
    "        return(np.array(1 - self.mij[(r,s,'d',2010)]**μ * (1/self.V[(r,s,'d',2010)])\\\n",
    "                        * (1 - np.diag(np.ones(len(self.countries))))))\n",
    "    \n",
    "    ########### NEW #############\n",
    "    \n",
    "    def mii_cal(r, s, b, t):\n",
    "        ''' Internal emigrant to stayer ratio '''\n",
    "        return(((self.v[('n', s, 'd', t)]/self.v[(r, s, b, t)])\n",
    "                * ( (1-self.xii[(r, s)])/(1-self.χ[b])))**(1/μ))\n",
    "\n",
    "    def mij_cal(r, s, b, t):\n",
    "        ''' International emigrant to stayer ratio'''\n",
    "        return(np.array(self.V[(r,s,'d',2010)]**(1/μ)\\\n",
    "                        * ((1-self.xij[(r,s)])/(1-self.χ[b]))**(1/μ)\\\n",
    "                        * (1-np.diag(np.ones(len(self.countries))))))    \n",
    "    \n",
    "    def Ms_cal(r, s, b, t):\n",
    "        \"\"\" Stayers \"\"\"\n",
    "        if b == 'd':\n",
    "            share = 1-self.ω[(r,t)]\n",
    "        else:\n",
    "            share = self.ω[(r,t)]\n",
    "        return((share * self.N[(r, s, t)])/\n",
    "           (1 + self.mii[(r, s, b, t)] + self.mij[(r,s,b,t)].sum(1)))\n",
    "    \n",
    "    def Mii_cal(r, s, b, t):\n",
    "        \"\"\" Internal emigrants from dry area \"\"\"\n",
    "        return(self.mii[(r, s, b, t)] * self.Ms[(r, s, b, t)])\n",
    "\n",
    "    def Mij_cal(r, s, b, t):\n",
    "        \"\"\" Internal emigrants from dry area \"\"\"\n",
    "        return(np.array(self.mij[(r,s,b,t)].multiply(self.Ms[(r,s,b,t)],0)))\n",
    "    \n",
    "    ########### NEW #############\n",
    "    \n",
    "    b = 'd'\n",
    "    t = 2010\n",
    "    for r in R:\n",
    "        self.Γ__L[(r, t)] = Γ__L_cal(r, t)\n",
    "        self.Γ__η[(r, t)] = Γ__η_cal(r, t)\n",
    "    for r in R:\n",
    "        for s in S:\n",
    "            self.η[(r, s, t)] = η_cal(r, s, t)\n",
    "        self.A[(r, t)] = A_cal(r, t)\n",
    "        self.Y[(r, t)] = Y_cal(r, t)\n",
    "    for r in R:\n",
    "        for s in S:\n",
    "            self.w[(r, s, t)] = w_cal(r, s, t)\n",
    "    for r in R:\n",
    "        self.Γ__w[(r, t)] = Γ__w_cal(r, t)\n",
    "    for r in R:\n",
    "        for s in S:\n",
    "            self.c[(r, s, b, t)] = c_cal(r, s, b, t)\n",
    "            self.v[(r, s, b, t)] = v_cal(r, s, b, t)\n",
    "    for r in R:\n",
    "        for s in S:\n",
    "            self.V.loc[:,(r, s, b, t)] = V_cal(r, s, b, t)\n",
    "    t = 2010\n",
    "    for r in R:\n",
    "        for s in S:\n",
    "            self.xii[(r, s)] = xii_cal(r,s)\n",
    "            self.xij.loc[:,(r,s)] = np.array(xij_cal(r,s))\n",
    "            \n",
    "    Mijf = self.MidxDataFrame('ijrsft').fillna(0)\n",
    "    \n",
    "    self.Mij = self.Mij.join(Mijf)\n",
    "    \n",
    "    for r in R:\n",
    "        for s in S:\n",
    "            self.Mii[(r,s,'f',2010)] = 0\n",
    "            \n",
    "    \n",
    "    ############# NEW ###############\n",
    "    self.mii = self.MidxDataFrame('irsbt')\n",
    "    self.mij = self.MidxDataFrame('ijrsbt') # [R, S, B, list(T), list(self.countries)]\n",
    "    self.Ms = self.MidxDataFrame('irsbt')\n",
    "    self.Mij = self.MidxDataFrame('ijrsbt') # [R, S, B, list(T), list(self.countries)]\n",
    "\n",
    "    for r in R:\n",
    "        for s in S:\n",
    "                self.mii[(r, s, b, t)] = mii_cal(r, s, b, t)\n",
    "    for r in R:\n",
    "        for s in S:\n",
    "                self.mij.loc[:,(r, s, b, t)] = mij_cal(r, s, b, t)\n",
    "    for r in R:\n",
    "        for s in S:\n",
    "                self.Ms[(r, s, b, t)]  = Ms_cal(r, s, b, t)\n",
    "                self.Mii[(r, s, b, t)] = Mii_cal(r, s, b, t)\n",
    "                self.Mij.loc[:,(r, s, b, t)] = Mij_cal(r, s, b, t)        \n",
    "    \n",
    "model.calib_migcosts = calib_migcosts"
   ]
  },
  {
   "cell_type": "markdown",
   "metadata": {},
   "source": [
    "### Exogenous fertility"
   ]
  },
  {
   "cell_type": "code",
   "execution_count": 11,
   "metadata": {
    "ExecuteTime": {
     "end_time": "2019-08-30T12:27:17.970086Z",
     "start_time": "2019-08-30T12:27:17.964139Z"
    },
    "code_folding": [
     0
    ]
   },
   "outputs": [],
   "source": [
    "def fertility(self):\n",
    "\n",
    "    for t in [2010,2040,2070,2100]:\n",
    "        for r in R:\n",
    "            for s in S:\n",
    "                for b in B:\n",
    "                    self.n[(r,s,b,t)] = self.n[(r,s,'d',t)]\n",
    "                    self.p[(r,s,b,t)] = self.p[(r,s,'d',t)]      \n",
    "\n",
    "model.fertility = fertility"
   ]
  },
  {
   "cell_type": "markdown",
   "metadata": {
    "ExecuteTime": {
     "end_time": "2019-02-14T08:17:46.967159Z",
     "start_time": "2019-02-14T08:17:46.964527Z"
    }
   },
   "source": [
    "## Simulation method"
   ]
  },
  {
   "cell_type": "code",
   "execution_count": 129,
   "metadata": {
    "ExecuteTime": {
     "end_time": "2019-08-30T12:27:18.044858Z",
     "start_time": "2019-08-30T12:27:17.972213Z"
    },
    "code_folding": [
     0
    ]
   },
   "outputs": [],
   "source": [
    "def simulate(self, max_iter=150, report=False, report_from=0,quickstart=False,mig_config='full'):\n",
    "    \"\"\" Load  parameters \"\"\"\n",
    "    σ, μ= self.σ, self.μ\n",
    "    τ, ε, κ, Γ__η_bar = self.τ, self.ε, self.κ, self.Γ__η_bar\n",
    "    tol = self.tol\n",
    "    γ = self.γ\n",
    "\n",
    "    A_bar, xii, xij = self.A_bar, self.xii, self.xij\n",
    "\n",
    "    t = 1980\n",
    "    # Create empty dataframes\n",
    "    self.mii = self.MidxDataFrame('irsbt')\n",
    "    self.mij = self.MidxDataFrame('ijrsbt') # [R, S, B, list(T), list(self.countries)]\n",
    "    self.Ms = self.MidxDataFrame('irsbt')\n",
    "    self.Mij = self.MidxDataFrame('ijrsbt') # [R, S, B, list(T), list(self.countries)]\n",
    "    self.Iii = self.MidxDataFrame('irst')\n",
    "    self.Iij = self.MidxDataFrame('irst')\n",
    "    \n",
    "    \"\"\" Functions \"\"\"\n",
    "\n",
    "    def Γ__L_fun(r, t):\n",
    "        ''' Skill ratio in the labor force '''\n",
    "        return (self.L[(r, 'h', t)] / self.L[(r, 'l', t)])\n",
    "\n",
    "    def Γ__η_fun(r, t):\n",
    "        ''' Skill bias in relative productivity '''\n",
    "        return (Γ__η_bar[r] * self.Γ__L[(r, t)]**κ[r])\n",
    "\n",
    "    def η_fun(r, s, t):\n",
    "        ''' Relative productivity '''\n",
    "        η_h = self.Γ__η[(r, t)] / (1 + self.Γ__η[(r, t)])\n",
    "        if s == 'h':\n",
    "            return (η_h)\n",
    "        else:\n",
    "            return (1 - η_h)\n",
    "\n",
    "    def A_fun(r, t):\n",
    "        ''' Total factor productivity '''\n",
    "        return (γ**(t - t0) * self.D[(r, t)]\n",
    "                * self.A_bar[r] * self.Γ__L[(r, t)]**ε[r])\n",
    "\n",
    "    def Y_fun(r, t):\n",
    "        ''' Gross domestic product '''\n",
    "        if r == 'n':\n",
    "            return(self.A[(r, t)] * (self.η[(r, 'l', t)] * self.L[(r, 'l', t)]**((σ[r]-1)/σ[r])\n",
    "                                     + self.η[(r, 'h', t)] * self.L[(r, 'h', t)]**((σ[r]-1)/σ[r]))**(σ[r]/(σ[r]-1)))\n",
    "        else:\n",
    "            return(self.A[(r, t)] * (self.η[(r, 'l', t)] * self.L[(r, 'l', t)]\n",
    "                                     + self.η[(r, 'h', t)] * self.L[(r, 'h', t)]))\n",
    "\n",
    "    def w_fun(r, s, t):\n",
    "        ''' Wage rate '''\n",
    "        if r == 'a':\n",
    "            return (η_fun(r, s, t) * self.A[(r, t)])\n",
    "        if r == 'n':\n",
    "            return (η_fun(r, s, t) * self.A[(r, t)] ** ((σ[r]-1)/σ[r]) * (Y_fun(r, t) / self.L[(r, s, t)])**(1 / σ[r]))\n",
    "\n",
    "    def Γ__w_fun(r, t):\n",
    "        ''' High-low-skilled wage ratio '''\n",
    "        return(self.w[(r, 'h', t)]/self.w[(r, 'l', t)])\n",
    "\n",
    "    def c_fun(r, s, b, t):\n",
    "        ''' Consumption '''\n",
    "        return(self.w[(r, s, t)] )\n",
    "\n",
    "    \n",
    "    def v_fun(r, s, b, t):\n",
    "        ''' Inner utility '''\n",
    "        return((1 - τ[r]) * self.c[(r, s, b, t)])\n",
    "    \n",
    "    def V_fun(r, s, b, t):\n",
    "        ''' Relative utility between two regions '''\n",
    "        return(np.outer(1/self.v[(r,s,b,t)],self.v[('n',s,'d',t)]))\n",
    "\n",
    "    def mii_fun(r, s, b, t):\n",
    "        ''' Internal emigrant to stayer ratio '''\n",
    "        return(((self.v[('n', s, 'd', t)]/self.v[(r, s, b, t)])\n",
    "                * ( (1-self.xii[(r, s)])/(1-self.χ[b])))**(1/μ))\n",
    "\n",
    "    def mij_fun(r, s, b, t):\n",
    "        ''' International emigrant to stayer ratio'''\n",
    "        return(np.array(self.V[(r,s,'d',2010)]**(1/μ)\\\n",
    "                        * ((1-self.xij[(r,s)])/(1-self.χ[b]))**(1/μ)\\\n",
    "                        * (1-np.diag(np.ones(len(self.countries))))))    \n",
    "    \n",
    "    def Ms_fun(r, s, b, t):\n",
    "        \"\"\" Stayers \"\"\"\n",
    "        if b == 'd':\n",
    "            share = 1-self.ω[(r,t)]\n",
    "        else:\n",
    "            share = self.ω[(r,t)]\n",
    "        return((share * self.N[(r, s, t)])/\n",
    "               (1 + self.mii[(r, s, b, t)] + self.mij[(r,s,b,t)].sum(1)))\n",
    "    \n",
    "    def Mii_fun(r, s, b, t):\n",
    "        \"\"\" Internal emigrants from dry area \"\"\"\n",
    "        return(self.mii[(r, s, b, t)] * self.Ms[(r, s, b, t)])\n",
    "\n",
    "    def Mij_fun(r, s, b, t):\n",
    "        \"\"\" Internal emigrants from dry area \"\"\"\n",
    "        return(np.array(self.mij[(r,s,b,t)].multiply(self.Ms[(r,s,b,t)],0)))\n",
    "    \n",
    "    def Iii_fun(r,s,t):\n",
    "        \"\"\" Internal immigrant flow\"\"\"\n",
    "        rprime = set(R).difference(r).pop()\n",
    "        return(self.Mii[(rprime,s,'d',t)] + self.Mii[(rprime,s,'f',t)])\n",
    "\n",
    "    def Iij_fun(r, s, t):\n",
    "        ''' International immigrant flow '''\n",
    "        if r == 'a':\n",
    "            return(0)\n",
    "        else:\n",
    "            return((self.Mij[('a',s,'d',t)] + self.Mij[('a',s,'f',t)] \\\n",
    "                  + self.Mij[('n',s,'d',t)] + self.Mij[('n',s,'f',t)]).sum(0)) \n",
    "\n",
    "    def L_fun(r,s,t):\n",
    "        ''' Resident population '''\n",
    "        rprime = set(R).difference(r).pop()\n",
    "        L = self.Ms[(r, s, 'd', t)]  +\\\n",
    "            self.Ms[(r, s, 'f', t)]  +\\\n",
    "            self.Iii[(r,s,t)] +\\\n",
    "            self.Iij[(r,s,t)]\n",
    "        return(np.maximum(tol, L))\n",
    "\n",
    "    def N_fun(r, s, t):\n",
    "        ''' Native population '''\n",
    "        if t < 2040:\n",
    "            if s == 'l':\n",
    "                # probabilities to become low-skilled\n",
    "                p_l = 1 - self.p[(r, 'l', 'd', t-30)]\n",
    "                p_h = 1 - self.p[(r, 'h', 'd', t-30)]\n",
    "            else:\n",
    "                # probabilities to become high-skilled\n",
    "                p_l = self.p[(r, 'l', 'd', t-30)]\n",
    "                p_h = self.p[(r, 'h', 'd', t-30)]\n",
    "            N = self.L[(r, 'l', t-30)] * self.n[(r, 'l', 'd', t-30)] * p_l + \\\n",
    "                self.L[(r, 'h', t-30)] * self.n[(r, 'h', 'd', t-30)] * p_h\n",
    "        else:\n",
    "            rprime = set(R).difference(r).pop()\n",
    "            p_l  = self.p[(r,'h','d',t-30)]\n",
    "            p_h  = self.p[(r,'h','d',t-30)]\n",
    "            pf_l = self.p[(r,'l','f',t-30)]\n",
    "            pf_h = self.p[(r,'h','f',t-30)]\n",
    "            if s == 'l':\n",
    "                p_l  = 1 - p_l\n",
    "                pf_l = 1 - pf_l\n",
    "                p_h  = 1 - p_h\n",
    "                pf_h = 1 - pf_h\n",
    "            N = self.Ms[(r, 'l', 'd', t-30)]       * self.n[(r, 'l', 'd', t-30)] * p_l  +\\\n",
    "                self.Ms[(r, 'l', 'f', t-30)]       * self.n[(r, 'l', 'f', t-30)] * pf_l +\\\n",
    "                self.Mii[(rprime, 'l', 'd', t-30)] * self.n[(r, 'l', 'd', t-30)] * p_l  +\\\n",
    "                self.Mii[(rprime, 'l', 'f', t-30)] * self.n[(r, 'l', 'f', t-30)] * pf_l +\\\n",
    "                self.Ms[(r, 'h', 'd', t-30)]       * self.n[(r, 'h', 'd', t-30)] * p_l  +\\\n",
    "                self.Ms[(r, 'h', 'f', t-30)]       * self.n[(r, 'h', 'f', t-30)] * pf_l +\\\n",
    "                self.Mii[(rprime, 'h', 'd', t-30)] * self.n[(r, 'h', 'd', t-30)] * p_l  +\\\n",
    "                self.Mii[(rprime, 'h', 'f', t-30)] * self.n[(r, 'h', 'f', t-30)] * pf_l\n",
    "        return(np.maximum(tol, N))\n",
    "        \n",
    "           \n",
    "        \n",
    "    \"\"\" 1980 Loop \"\"\"\n",
    "    def loop1980():\n",
    "        t = 1980\n",
    "        for r in R:\n",
    "            self.Γ__L[(r, t)] = Γ__L_fun(r, t)\n",
    "            self.Γ__η[(r, t)] = Γ__η_fun(r, t)\n",
    "        for r in R:\n",
    "            for s in S:\n",
    "                self.η[(r, s, t)] = η_fun(r, s, t)\n",
    "            self.Y[(r, t)] = Y_fun(r, t)\n",
    "        for r in R:\n",
    "            for s in S:\n",
    "                self.w[(r, s, t)] = w_fun(r, s, t)\n",
    "        for r in R:\n",
    "            self.Γ__w[(r, t)] = Γ__w_fun(r, t)\n",
    "        for r in R:\n",
    "            for s in S:\n",
    "                for b in B:\n",
    "                    self.c[(r, s, b, t)] = c_fun(r, s, b, t)\n",
    "        for r in R:\n",
    "            for s in S:\n",
    "                for b in B:\n",
    "                    self.v[(r, s, b, t)] = v_fun(r, s, b, t)\n",
    "        # for r in R:\n",
    "        #     for s in S:\n",
    "        #         self.N[(r, s, t+30)] = N_fun(r, s, t+30)\n",
    "                \n",
    "                \n",
    "    \"\"\" 2010-2100 Loop \"\"\"\n",
    "    def loop2010_2100(quick=quickstart,mig_config=mig_config):\n",
    "        plt.figure(figsize=(15, 4))\n",
    "        conv = 0.9 # convergence parameter\n",
    "        \n",
    "        Ts = [2010, 2040, 2070, 2100]\n",
    "        for t in Ts:\n",
    "            count = 0 # counter\n",
    "            self.ΔL = 1\n",
    "\n",
    "            quickstart = quick\n",
    "            if quickstart == True:\n",
    "                try:\n",
    "                    QUICK_L = pd.read_hdf('quickstart/'+self.name+'_'+str(datetime.datetime.now())[:10]+'.h5',key='L')\n",
    "                    for r in R:\n",
    "                        for s in S:\n",
    "                            self.L[(r, s, t)] = QUICK_L[(r, s, t)] \n",
    "                except:\n",
    "                    quickstart = False\n",
    "                    \n",
    "            if quickstart == False:\n",
    "                if t != 2010:\n",
    "                    for r in R:\n",
    "                        for s in S:\n",
    "                            # initial guess for L(r,s,t) = L(r,s,t-1)\n",
    "                            self.L[(r, s, t)] = self.L[(r, s, t-30)]\n",
    "            \n",
    "            # quickstart indicator\n",
    "            if (t == 2010) & (quickstart == True):\n",
    "                display(HTML(\"<b>Launched with quickstart!</b>\"))\n",
    "                \n",
    "            if t == 2040:\n",
    "                # migration scenarios\n",
    "                if mig_config == 'no_south':\n",
    "                    for r in R:\n",
    "                        for s in S:\n",
    "                            self.xij.loc[:,(r,s)] = np.array(self.xij[r][s].pow(self.OECD,1))\n",
    "                    self.xij = self.xij.fillna(1)\n",
    "\n",
    "                if mig_config == 'no_north':\n",
    "                    for r in R:\n",
    "                        for s in S:\n",
    "                            self.xij.loc[:,(r,s)] = np.array(self.xij[r][s].pow(0**self.OECD,1))\n",
    "                    self.xij = self.xij.fillna(1)\n",
    "            \n",
    "            # quadratic differentials in L\n",
    "            Δ = self.ΔL**2\n",
    "            # create vector to track evolution of quadratic differentials\n",
    "            self.Δ = [] \n",
    "\n",
    "            while (Δ > tol) & (count < max_iter):\n",
    "                if count > 0:\n",
    "                    # after first run, L(r,s,t) = convex combination of prediction & guess\n",
    "                    self.L[(r, s, t)] = conv * self.L[(r, s, t)] + (1-conv) * self.L_old[(r, s)]\n",
    "\n",
    "                # track old value of L\n",
    "                self.L_old = self.L.xs(t, 1, 2)\n",
    "                \n",
    "                for r in R:\n",
    "                    self.Γ__L[(r, t)] = Γ__L_fun(r, t)\n",
    "                    self.Γ__η[(r, t)] = Γ__η_fun(r, t)\n",
    "                for r in R:\n",
    "                    for s in S:\n",
    "                        self.η[(r, s, t)] = η_fun(r, s, t)\n",
    "                    self.A[(r, t)] = A_fun(r, t)\n",
    "                    self.Y[(r, t)] = Y_fun(r, t)\n",
    "                for r in R:\n",
    "                    for s in S:\n",
    "                        self.w[(r, s, t)] = w_fun(r, s, t)\n",
    "                for r in R:\n",
    "                    self.Γ__w[(r, t)] = Γ__w_fun(r, t)\n",
    "                    for s in S:\n",
    "                        for b in B:\n",
    "                            self.c[(r, s, b, t)] = c_fun(r, s, b, t)\n",
    "                            self.v[(r, s, b, t)] = v_fun(r, s, b, t)\n",
    "                for r in R:\n",
    "                    for s in S:\n",
    "                        self.V.loc[:,(r, s, b, t)] = V_fun(r, s, b, t)\n",
    "                for r in R:\n",
    "                    for s in S:\n",
    "                        for b in B:\n",
    "                            self.mii[(r, s, b, t)] = mii_fun(r, s, b, t)\n",
    "                for r in R:\n",
    "                    for s in S:\n",
    "                        for b in B:\n",
    "                            self.mij.loc[:,(r, s, b, t)] = mij_fun(r, s, b, t)\n",
    "                for r in R:\n",
    "                    for s in S:\n",
    "                        for b in B:\n",
    "                            self.Ms[(r, s, b, t)]  = Ms_fun(r, s, b, t)\n",
    "                            self.Mii[(r, s, b, t)] = Mii_fun(r, s, b, t)\n",
    "                            self.Mij[(r, s, b, t)] = Mij_fun(r, s, b, t)\n",
    "                for r in R:\n",
    "                    for s in S:\n",
    "                        self.Iii[(r,s,t)] = Iii_fun(r, s, t)\n",
    "                        self.Iij[(r,s,t)] = Iij_fun(r, s, t)\n",
    "                    for r in R:\n",
    "                        for s in S:\n",
    "                            self.L[(r, s, t)] = L_fun(r, s, t)\n",
    "                for r in R:\n",
    "                    for s in S:\n",
    "                        self.N[(r, s, t+30)] = N_fun(r, s, t+30)\n",
    "                        \n",
    "                \n",
    "                self.ΔL = ((self.L_old - self.L.xs(t, 1, 2))**2).sum().sum()\n",
    "                Δ = self.ΔL\n",
    "                self.Δ.append(Δ)\n",
    "                \n",
    "                count += 1\n",
    "               \n",
    "                \n",
    "            if report == True:\n",
    "                plt.subplot(1, len(Ts), int((t-Ts[0])/30+1))\n",
    "                plt.plot(self.Δ[report_from:max_iter])\n",
    "                plt.title('Year = '+str(t)\n",
    "                         +'\\n'+'N° of Iterations = '+str(count)\n",
    "                         +'\\n'+'ΔL = '+str(self.ΔL))\n",
    "                plt.grid(True)\n",
    "                plt.xlabel('iteration i')\n",
    "                plt.ylabel('$ΔL_i^2$')\n",
    "                plt.yscale('log')\n",
    "        plt.show()\n",
    "\n",
    "    \n",
    "    loop1980()\n",
    "    loop2010_2100(quick=quickstart,mig_config=mig_config)\n",
    "    \n",
    "    \n",
    "    # Save results for L for eventual quickstart\n",
    "    self.L.to_hdf('quickstart/'+self.name+'_'+str(datetime.datetime.now())[:10]+'.h5',key='L')\n",
    "    \n",
    "model.simulate = simulate"
   ]
  },
  {
   "cell_type": "markdown",
   "metadata": {},
   "source": [
    "## Checks"
   ]
  },
  {
   "cell_type": "markdown",
   "metadata": {},
   "source": [
    "### Native population"
   ]
  },
  {
   "cell_type": "code",
   "execution_count": 13,
   "metadata": {
    "ExecuteTime": {
     "end_time": "2019-08-30T12:27:18.059089Z",
     "start_time": "2019-08-30T12:27:18.046495Z"
    },
    "code_folding": [
     0
    ],
    "scrolled": true
   },
   "outputs": [],
   "source": [
    "def native_split(self,r,s,t,save=False):\n",
    "\n",
    "    path = 'population_splits/'\n",
    "    fig = plt.figure(figsize=(16,26))\n",
    "\n",
    "    split = pd.DataFrame({'stayers_d' : (self.Ms[(r,s,'d',t)]/self.N[(r,s,t)]),\n",
    "                          'stayers_f' : (self.Ms[(r,s,'f',t)]/self.N[(r,s,t)]),\n",
    "                          'internal_emigrants_d': (self.Mii[(r,s,'d',t)]/self.N[(r,s,t)]),\n",
    "                          'internal_emigrants_f': (self.Mii[(r,s,'f',t)]/self.N[(r,s,t)]),\n",
    "                          'internat_emigrants_d': (self.Mij[(r,s,'d',t)].sum(1)/self.N[(r,s,t)]),\n",
    "                          'internat_emigrants_f': (self.Mij[(r,s,'f',t)].sum(1)/self.N[(r,s,t)]),\n",
    "                          })\n",
    "\n",
    "    \n",
    "    split = split.sort_values(by=list(split))\n",
    "\n",
    "    \n",
    "    hatch = ['/']\n",
    "    for i in range(len(split)):\n",
    "        hatch.append(hatch[-1]+'/')\n",
    "    hatch =  itertools.cycle(hatch)\n",
    "    left = 0\n",
    "    for i in list(split):\n",
    "        plt.barh(split.index,split[i],left=left,label=i,hatch=next(hatch),edgecolor='white')\n",
    "        left = left + split[i]\n",
    "    ticks = [0,.25,.5,.75,1]\n",
    "    plt.tick_params(axis='both', labelsize=6)\n",
    "    plt.xticks(ticks)\n",
    "    for x in ticks:\n",
    "        if 0 < x < 1: \n",
    "            plt.axvline(x,c='k',linestyle='--')\n",
    "    plt.axvline(1,c='k')\n",
    "    #plt.tight_layout()\n",
    "    plt.legend(loc=9,ncol=3)\n",
    "    plt.title('Native population split in '+r+s+str(t))\n",
    "    plt.show()\n",
    "\n",
    "    if save == True:\n",
    "        fig.savefig(path+'N'+str(t)+r+s+'.pdf',dpi=300)\n",
    "    \n",
    "model.native_split = native_split"
   ]
  },
  {
   "cell_type": "markdown",
   "metadata": {},
   "source": [
    "### Resident population"
   ]
  },
  {
   "cell_type": "code",
   "execution_count": 14,
   "metadata": {
    "ExecuteTime": {
     "end_time": "2019-08-30T12:27:18.074365Z",
     "start_time": "2019-08-30T12:27:18.060462Z"
    },
    "code_folding": [
     0
    ],
    "scrolled": true
   },
   "outputs": [],
   "source": [
    "def resident_split(self,r,s,t,save=False):\n",
    "    path = 'population_splits/'\n",
    "    fig = plt.figure(figsize=(16,26))\n",
    "    rprime = set(R).difference(r).pop()\n",
    "\n",
    "    split = pd.DataFrame({'stayers_d' : (self.Ms[(r,s,'d',t)])/self.L[(r,s,t)],\n",
    "                          'stayers_f' : (self.Ms[(r,s,'f',t)])/self.L[(r,s,t)],\n",
    "                          'internal_immigrants_d': (self.Mii[(rprime,s,'d',t)])/self.L[(r,s,t)],\n",
    "                          'internal_immigrants_f': (self.Mii[(rprime,s,'f',t)]/self.L[(r,s,t)]),\n",
    "                          'internat_immigrants_a_d': (self.Mij[('a',s,'d',t)].sum(0))/self.L[(r,s,t)],\n",
    "                          'internat_immigrants_a_f': (self.Mij[('a',s,'f',t)].sum(0))/self.L[(r,s,t)],\n",
    "                          'internat_immigrants_n_d': (self.Mij[('n',s,'d',t)].sum(0))/self.L[(r,s,t)],\n",
    "                          'internat_immigrants_n_f': (self.Mij[('n',s,'f',t)].sum(0))/self.L[(r,s,t)],\n",
    "                          })\n",
    "\n",
    "\n",
    "    if r == 'a':\n",
    "        split['internat_immigrants_a_d'] = 0\n",
    "        split['internat_immigrants_n_d'] = 0\n",
    "        split['internat_immigrants_a_f'] = 0\n",
    "        split['internat_immigrants_n_f'] = 0\n",
    "        \n",
    "    split = split.sort_values(by=list(split))\n",
    "    \n",
    "    hatch = ['/']\n",
    "    for i in range(len(split)):\n",
    "        hatch.append(hatch[-1]+'/')\n",
    "    hatch =  itertools.cycle(hatch)\n",
    "    left = 0\n",
    "    for i in list(split):\n",
    "        plt.barh(split.index,split[i],left=left,label=i,hatch=next(hatch),edgecolor='white')\n",
    "        left = left + split[i]\n",
    "    ticks = [0,.25,.5,.75,1]\n",
    "    plt.tick_params(axis='both', labelsize=6)\n",
    "    plt.xticks(ticks)\n",
    "    for x in ticks:\n",
    "        if 0 < x < 1: \n",
    "            plt.axvline(x,c='k',linestyle='--')\n",
    "    plt.axvline(1,c='k')\n",
    "    #plt.tight_layout()\n",
    "    plt.legend(loc=9,ncol=4)\n",
    "    plt.title('Resident population composition in '+r+s+str(t))\n",
    "    plt.show()\n",
    "\n",
    "    if save == True:\n",
    "        fig.savefig(path+'L'+str(t)+r+s+'.pdf',dpi=300)\n",
    "\n",
    "model.resident_split = resident_split"
   ]
  },
  {
   "cell_type": "markdown",
   "metadata": {},
   "source": [
    "### Further checks"
   ]
  },
  {
   "cell_type": "code",
   "execution_count": 15,
   "metadata": {
    "ExecuteTime": {
     "end_time": "2019-08-30T12:27:18.086435Z",
     "start_time": "2019-08-30T12:27:18.076514Z"
    },
    "code_folding": [
     0
    ],
    "scrolled": true
   },
   "outputs": [],
   "source": [
    "def checks(self):\n",
    "    YminusLw = []\n",
    "    NminusL = []\n",
    "    for t in T:\n",
    "        # Total production = total income\n",
    "        YminusLw.append((self.w.xs(t,1,2)*self.L.xs(t,1,2)).sum().sum() - self.Y.xs(t,1,1).sum().sum())\n",
    "        # Total native population = total resident population\n",
    "        NminusL.append((self.N.xs(t,1,2)-self.L.xs(t,1,2)).sum().sum())\n",
    "        \n",
    "    print('YminusLw',YminusLw)\n",
    "    print('NminusL',NminusL)\n",
    "    \n",
    "model.checks = checks"
   ]
  },
  {
   "cell_type": "code",
   "execution_count": 16,
   "metadata": {
    "ExecuteTime": {
     "end_time": "2019-08-30T12:27:18.096149Z",
     "start_time": "2019-08-30T12:27:18.088673Z"
    },
    "code_folding": [
     0
    ],
    "scrolled": true
   },
   "outputs": [],
   "source": [
    "def urbanization(self):\n",
    "    self.u = self.MidxDataFrame('ist')\n",
    "\n",
    "    for t in T:\n",
    "        for s in S:\n",
    "            self.u[(s,t)] = self.L[('n',s,t)]/(self.L[('a',s,t)]+self.L[('n',s,t)])\n",
    "            \n",
    "model.urbanization = urbanization"
   ]
  },
  {
   "cell_type": "markdown",
   "metadata": {},
   "source": [
    "### Comparison with previous paper"
   ]
  },
  {
   "cell_type": "code",
   "execution_count": 17,
   "metadata": {
    "ExecuteTime": {
     "end_time": "2019-08-30T12:40:30.113721Z",
     "start_time": "2019-08-30T12:40:30.094474Z"
    },
    "code_folding": [
     0
    ]
   },
   "outputs": [],
   "source": [
    "class check:\n",
    "    def __init__(self,\n",
    "                 name = \"BDDM intermediate, only to OECD\",\n",
    "                 σ={'a': math.inf, 'n': 2.0}, # elasticity of substitution\n",
    "                 μ=1.4, # 1/elasticity of mig. to wages\n",
    "                 τ={'a': 0.0, 'n': 0.0}, # utility loss due to CLC\n",
    "                 tol=1e-10, # tolerance parameter\n",
    "                 inputs='new_checks.xlsx', # input of data\n",
    "                 scenario='intermediate'): # climate change scenario\n",
    "        self.σ = σ \n",
    "        self.τ, self.μ = τ, μ\n",
    "        self.tol = tol\n",
    "        self.name = name\n",
    "        \n",
    "        def get_input(which, dim): \n",
    "            ''' Function that unpacks inputs of the model '''\n",
    "            return pd.read_excel(inputs,\n",
    "            sheet_name=dim,\n",
    "            index_col=0,\n",
    "            header=list(range(len(dim))))\n",
    "\n",
    "        # Load country-specific data\n",
    "        # i = country-specific\n",
    "        data_i = get_input(inputs, 'i')\n",
    "        # irt  = country-region-time-specific\n",
    "        data_irt = get_input(inputs, 'irt')\n",
    "        data_irt.columns.names = ['Variable','r','t']\n",
    "        # irst = country-region-skill-time-specific\n",
    "        data_irst = get_input(inputs, 'irst')\n",
    "        data_irst.columns.names = ['Variable','r','s','t']\n",
    "        # irsbt = country-region-skill-area-time-specific\n",
    "        data_irsbt = get_input(inputs, 'irsbt')  \n",
    "        data_irsbt.columns.names = ['Variable','r','s','b','t']        \n",
    "        \n",
    "        # Assign country-specific data\n",
    "        self.countries = data_i.index\n",
    "        self.OECD = data_i['OECD'] # OECD indicator\n",
    "        self.iso = data_i['iso3'] # iso3 Code\n",
    "        self.wbregion = data_i['wbregion'] # World Bank region\n",
    "        self.income_group = data_i['income_group'] # Income group\n",
    "        self.georegion = data_i['georegion'] # Geographical region\n",
    "        self.A = data_irt['A'] # total factor productivity\n",
    "        self.Y = data_irt['Y'] # GDP\n",
    "        self.ω = data_irt['ω'] # fraction of flooded population\n",
    "        self.Γ__w = data_irt['Γ__w']\n",
    "        self.L = data_irst['L'] # resident population\n",
    "        self.N = data_irst['N'] # native population\n",
    "        self.w = data_irst['w'] # native population\n",
    "        #self.mii = data_irsbt['mii'] # emigrant to stayer ratio (internal)\n",
    "        self.n = data_irsbt['n']\n",
    "        self.p = data_irsbt['p']\n",
    "        \n",
    "        \n",
    "        \n",
    "        # Climate change damage scenario\n",
    "        self.D = pd.read_excel(inputs,\n",
    "            sheet_name='scenarios',\n",
    "            index_col=0,\n",
    "            header=[0,1,2,3])[scenario]['D']\n",
    "        \n",
    "check.MidxDataFrame = MidxDataFrame   \n",
    "check.urbanization = urbanization"
   ]
  },
  {
   "cell_type": "code",
   "execution_count": 18,
   "metadata": {
    "ExecuteTime": {
     "end_time": "2019-08-30T12:40:32.412076Z",
     "start_time": "2019-08-30T12:40:30.868286Z"
    }
   },
   "outputs": [],
   "source": [
    "m0 = check()\n",
    "m0.urbanization()"
   ]
  },
  {
   "cell_type": "code",
   "execution_count": 19,
   "metadata": {
    "ExecuteTime": {
     "end_time": "2019-08-30T12:29:25.638540Z",
     "start_time": "2019-08-30T12:29:25.595756Z"
    },
    "code_folding": [
     0
    ]
   },
   "outputs": [],
   "source": [
    "def compare_models(model1, model2, \n",
    "                   var ='all', annotate_largest=10 ,\n",
    "                   size=18,fit_reg = False, \n",
    "                   cols=4,start_year = 2010):\n",
    "    \n",
    "    def plot_scatter(model1,model2,i):\n",
    "        elem = model1.__dict__[i]\n",
    "        if isinstance(elem, pd.DataFrame):\n",
    "            display(HTML(\"<b><center><font size='4'>%s</font></center></b>\" %(i)))\n",
    "            tuples = set(list(model1.__dict__[i])).intersection(set(list(model2.__dict__[i])))\n",
    "            tuples = sorted(list(tuples), key=lambda item: item[len(list(tuples)[0])-1])\n",
    "\n",
    "            fig = plt.figure(figsize=(size, math.ceil(len(tuples)/cols)*size/cols))     \n",
    "            plt.tight_layout()\n",
    "            plt.subplots_adjust(top=1)\n",
    "            count = 1\n",
    "            for tup in tuples:\n",
    "                if tup[len(tup)-1] >= start_year:\n",
    "                    y = model1.__dict__[i][tup]\n",
    "                    x = model2.__dict__[i][tup]\n",
    "                    fig.add_subplot(math.ceil(len(tuples)/cols), cols, count,aspect='equal')\n",
    "                    count += 1\n",
    "                    sns.regplot(x, y, \n",
    "                                fit_reg = fit_reg,\n",
    "                                scatter = True,\n",
    "                                scatter_kws={'s': 25, 'alpha': 0.7}\n",
    "                                )\n",
    "                    for c in model1.countries:\n",
    "                        largest_diff = ((x/y-1)**2 + (y/x-1)**2).nlargest(annotate_largest)\n",
    "                        if c in list(largest_diff.index):\n",
    "                            plt.annotate(model1.iso.loc[c], (x.loc[c], y.loc[c]))\n",
    "                    lims = [min(x.append(y)), max(x.append(y))]\n",
    "                    z = np.linspace(lims[0],lims[1])\n",
    "                    plt.plot(z,z,color='k')\n",
    "                    plt.xlim(lims)\n",
    "                    plt.ylim(lims)\n",
    "                    plt.xlabel(model2.name)\n",
    "                    plt.ylabel(model1.name)\n",
    "                    plt.xscale('log')\n",
    "                    plt.yscale('log')\n",
    "                    plt.title(i+' ['+str(tup)+']'+'\\n'+'Correlation = '+str(round(x.corr(y),4)))\n",
    "            plt.show()\n",
    "            \n",
    "    \n",
    "    if var == 'all':\n",
    "        for i in sorted(list(model1.__dict__)):\n",
    "            plot_scatter(model1,model2,i)\n",
    "                         \n",
    "    else:\n",
    "        plot_scatter(model1,model2,var)"
   ]
  },
  {
   "cell_type": "markdown",
   "metadata": {},
   "source": [
    "## Save output"
   ]
  },
  {
   "cell_type": "code",
   "execution_count": 20,
   "metadata": {
    "ExecuteTime": {
     "end_time": "2019-08-30T12:27:18.114022Z",
     "start_time": "2019-08-30T12:27:18.098396Z"
    },
    "code_folding": [
     0
    ]
   },
   "outputs": [],
   "source": [
    "def save_output(self):\n",
    "    \"\"\" Saves output of simulation \"\"\"\n",
    "\n",
    "    self.var = {\n",
    "    'irt':   ['A', 'D', 'Y', 'xii', 'Γ__L', 'Γ__n', 'Γ__w', 'Γ__η', 'ω'],\n",
    "    'irst':  ['Iii', 'Iij', 'L', 'N', 'w', 'xij', 'η'],\n",
    "    'irsbt': ['Mii', 'Ms', 'c', 'mii', 'n', 'p', 'v'],\n",
    "    'ijrsbt': ['Mij','mij'],\n",
    "    }\n",
    "\n",
    "    def output(dim):\n",
    "        var_data = [self.__dict__[v].dropna(axis=1, how='all') for v in self.var[dim]]\n",
    "        return(pd.concat(var_data, keys=self.var[dim], axis=1))\n",
    "\n",
    "    writer = pd.ExcelWriter(\n",
    "        'output/'+self.name+'_'+str(datetime.datetime.now())[:10]+'.xlsx', engine='xlsxwriter')\n",
    "\n",
    "    for dim in self.var.keys():\n",
    "        output(dim).to_excel(writer, sheet_name=dim)\n",
    "        output(dim).describe().T.to_excel(\n",
    "            writer, sheet_name=dim+'_statistics')\n",
    "    writer.save()\n",
    "    \n",
    "model.save_output = save_output"
   ]
  },
  {
   "cell_type": "markdown",
   "metadata": {},
   "source": [
    "# Output functions"
   ]
  },
  {
   "cell_type": "code",
   "execution_count": 21,
   "metadata": {},
   "outputs": [],
   "source": [
    "def out_immigration_rate_by_country(self):\n",
    "    \"\"\" Immigration as percentage of resident population \"\"\"\n",
    "    m = self\n",
    "    L = m.L.unstack().reset_index()\n",
    "    I = m.Iij.unstack().reset_index()\n",
    "    L = L.rename(columns={0:'value'})\n",
    "    I = I.rename(columns={0:'value'})\n",
    "    L = L.groupby(['t','Country']).sum()\n",
    "    I = I.groupby(['t','Country']).sum()\n",
    "    tab1 = (I/L).value.unstack('t').drop(1980,1)\n",
    "    sample = ['Germany','France','United Kingdom','Italy','Spain','United States','Canada','Australia']\n",
    "    custom_dict = {}\n",
    "    for i in enumerate(sample):\n",
    "        custom_dict[i[1]] = i[0] \n",
    "    tab1 = tab1[tab1.index.isin(sample)]\n",
    "    tab1 = tab1.iloc[tab1.index.map(custom_dict).argsort()]\n",
    "    tab1 = round(tab1*100,2)\n",
    "    return(tab1)\n",
    "\n",
    "def out_emigration_rate_by_wbregion(self):\n",
    "    \"\"\" Emigration as percentage of native population \"\"\"\n",
    "    m = self\n",
    "    N = m.N.unstack().reset_index()\n",
    "    N = N.rename(columns={0:'value'})\n",
    "    N = N.groupby(['t','Country']).sum()\n",
    "    M = m.Mij.dropna(1).unstack().reset_index()\n",
    "    M = M.rename(columns={0:'value'})\n",
    "    M = M.groupby(['t','Country']).sum()\n",
    "\n",
    "    N = N.value.unstack('t').drop(2130,1)\n",
    "    M = M.value.unstack('t')\n",
    "    N = N.join(m.wbregion).reset_index().groupby('wbregion').sum()\n",
    "    M = M.join(m.wbregion).reset_index().groupby('wbregion').sum()\n",
    "    tab2 = round((M/N)*100,2).drop(1980,1)\n",
    "    return(tab2)\n",
    "    \n",
    "def out_migrant_world_stock(self):\n",
    "    \"\"\" World stock of climate migrants by type \"\"\"\n",
    "    m = self\n",
    "    # Local migrants\n",
    "    Ms = m.Ms.xs('f',1,2).unstack().reset_index().groupby('t').sum().T\n",
    "    Ms.index = ['Local']\n",
    "\n",
    "    # Interregional migrants\n",
    "    Mii = m.Mii.unstack().reset_index().groupby('t').sum().T\n",
    "    Mii.index = ['Interregional']\n",
    "\n",
    "    # International migrants\n",
    "    Mij = m.Mij.unstack().reset_index()\n",
    "    Mij.Country = np.where(m.OECD.loc[Mij.Country] == 0,'South','North')\n",
    "    Mij.Destination = np.where(m.OECD.loc[Mij.Destination] == 0,'South','North')\n",
    "    Mij['i-j'] = Mij.Country + '-' + Mij.Destination\n",
    "    Mij = Mij.groupby(['i-j','t']).sum()[0].unstack()\n",
    "\n",
    "    MigWorldAggregates = Ms.append(Mii).append(Mij).drop(1980,1)/1e06\n",
    "    return(MigWorldAggregates)\n",
    "    \n",
    "def out_world_aggregates(self,on='world'):\n",
    "    \"\"\" Table of world aggregates at custom aggregation levels \"\"\"\n",
    "    m = self\n",
    "    \n",
    "    def aggregate(in_var,on):\n",
    "        if on == 'world':\n",
    "            var = in_var.unstack().reset_index()\n",
    "            var = var.groupby(['t']).sum().T\n",
    "        else:\n",
    "            var = in_var.unstack().reset_index()\n",
    "            if on != 'country':\n",
    "                var[on] = var['Country'].replace(\n",
    "                    list(m.__dict__[on].index),\n",
    "                    list(m.__dict__[on]))\n",
    "            var = var.groupby(['t',on]).sum().T.stack()\n",
    "        return(var)\n",
    "\n",
    "    TotalPop = aggregate(m.L,on)\n",
    "    UrbanPop = aggregate(m.L.xs('n',1,0),on)\n",
    "    HSPop = aggregate(m.L.xs('h',1,1),on)\n",
    "    GDP = aggregate(m.Y,on)\n",
    "\n",
    "\n",
    "    UrbanShare = round(UrbanPop/TotalPop * 100,2)\n",
    "    HSShare = round(HSPop/TotalPop * 100,2)\n",
    "    GDPpCap = GDP/TotalPop\n",
    "\n",
    "    tab = round(TotalPop.rename(index={0:'Total Population in Mio'})/1e6,2)\n",
    "    tab = tab.append(UrbanShare.rename(index={0:'Urban Share in %'}))\n",
    "    tab = tab.append(HSShare.rename(index={0:'HS Share in %'}))\n",
    "    tab = round(tab.append(GDPpCap.rename(index={0:'GDP p. C.'})),2)\n",
    "\n",
    "    return(tab)\n",
    "\n",
    "\n",
    "def out_composition_of_mig(self,drop=None):\n",
    "    \"\"\" Stackplot of migrant stock composition \"\"\"\n",
    "    m = self\n",
    "    stocks = m.out_migrant_world_stock()\n",
    "    if drop != None:\n",
    "        stocks = stocks.drop(drop,0)\n",
    "\n",
    "    dt = (stocks/stocks.sum())\n",
    "\n",
    "\n",
    "    labels = list(dt.index)\n",
    "    ylist = [dt.loc[i] for i in labels]\n",
    "    plt.figure(figsize=(10,10))\n",
    "    plt.stackplot(list(dt),ylist,labels=labels)\n",
    "    plt.legend()\n",
    "    plt.xticks(list(dt))\n",
    "    plt.show()\n",
    "    \n",
    "def out_distplot(self,li=[],var='w',save=False,text=False,save_name='income.pdf',cols=1):\n",
    "    li = [self] + li\n",
    "    lines = [\":\",\"-\",\"--\",\"-.\",\"-\"]\n",
    "    linecycler = cycle(lines)\n",
    "    lw = 2\n",
    "    c = cycle(['#'+i*6 for i in ['0','5','9','A','B','C']])\n",
    "    cycle_abc = cycle(abc)\n",
    "    extr_pov = 0.02\n",
    "\n",
    "    fig = plt.figure(figsize=(9,5))\n",
    "    txt = 'Extensive / intensive margin:\\n'\n",
    "    for m in li:\n",
    "        # Produce data for distributions\n",
    "        inc = pd.DataFrame(data=[m.L.xs(2100,1,2).unstack(),m.__dict__[var].xs(2100,1,2).unstack()],index=['L',var]).T\n",
    "        inc = inc.sort_values(by=var)\n",
    "        inc['PopShareWorld'] = inc['L']/(inc['L'].sum())\n",
    "        avg = ((inc['L']*inc[var]).sum()/(inc['L'].sum()))\n",
    "        inc['relInc'] = np.log10(inc[var]/avg)\n",
    "        \n",
    "        # Extensive and intensive margins:\n",
    "        letter = next(cycle_abc)\n",
    "        those_below = inc['relInc'] <= np.log10(extr_pov)\n",
    "        ext_marg = (inc['PopShareWorld'][those_below]).sum()\n",
    "        int_marg = (inc['PopShareWorld'][those_below]*(10**(inc['relInc'][those_below]))).sum()/(inc['PopShareWorld'][those_below]).sum()\n",
    "        ext_marg = round(100*ext_marg,2)\n",
    "        int_marg = round(100*int_marg,2)\n",
    "        txt = txt + '%s) %s %% / %s %% \\n' % (letter,str(ext_marg),str(int_marg))\n",
    "        \n",
    "        # Produce density functions\n",
    "        density = gaussian_kde(list(inc.relInc),weights=list(inc.PopShareWorld))\n",
    "        xs = np.linspace(-3,2,200)\n",
    "        density._compute_covariance()\n",
    "        \n",
    "        # Plot them\n",
    "        plt.plot(xs,density(xs),label=letter+') '+m.name.split(',')[0],linestyle=next(linecycler),c=next(c),linewidth=lw)\n",
    " \n",
    "    # Configurations of plot\n",
    "    plt.axvline(x=np.log10(extr_pov),ymin=0,c=next(c))\n",
    "    plt.legend(loc='upper center', bbox_to_anchor=(0.5, -0.1),ncol=cols)\n",
    "    plt.xticks(np.linspace(-3,2,6),np.linspace(0,100,6))\n",
    "    plt.grid(True,linestyle=':')\n",
    "    plt.title(\"Income as Ratio of World's Average\")\n",
    "    plt.ylabel('Density')\n",
    "    plt.tight_layout()\n",
    "    if text == True:\n",
    "        plt.text(.70,0.38, s=txt,horizontalalignment='left',\n",
    "        verticalalignment='center',fontsize=9)\n",
    "    if save == True:\n",
    "        fig.savefig('graphs/distributions/%s' % save_name)\n",
    "    plt.show()\n",
    "    \n",
    "def out_sankeyplot(self,region='a', skill='l', area='d', year=2100, \n",
    "               aggr_source_by='region',aggr_target_by='region',\n",
    "               source_name=None, target_name=None,\n",
    "               width=800,height=800,save=False):\n",
    "    \"\"\" Sankey plot of migration flows\"\"\"\n",
    "    from ipysankeywidget import SankeyWidget\n",
    "    from ipywidgets import Layout\n",
    "    m = self\n",
    "    layout = Layout(width=str(width), height=str(height))\n",
    "    t = year\n",
    "    matrix = m.Mij[region][skill][area][year].unstack().reset_index()\n",
    "    matrix.columns = ['source','target','value']\n",
    "    matrix = matrix[matrix.value > 0]\n",
    "    if aggr_source_by != None:\n",
    "        matrix.source = matrix.source.apply(lambda x: m.__dict__[aggr_source_by].loc[x])\n",
    "    if aggr_target_by != None:\n",
    "        matrix.target = matrix.target.apply(lambda x: m.__dict__[aggr_target_by].loc[x])\n",
    "    matrix = matrix.groupby(['source','target']).sum()\n",
    "    matrix = matrix.reset_index()\n",
    "    palette = itertools.cycle(sns.color_palette())\n",
    "\n",
    "    if source_name != None:\n",
    "        matrix = matrix[matrix.source == source_name]\n",
    "    if target_name != None:\n",
    "        matrix = matrix[matrix.target == target_name]\n",
    "    matrix.target = matrix.target + ' '\n",
    "\n",
    "    dic = dict()\n",
    "\n",
    "    for i in matrix.source.unique():\n",
    "        triplet = next(palette)\n",
    "        dic[i] = '#%02x%02x%02x' % tuple([int(255*x) for x in triplet])\n",
    "\n",
    "    matrix['color'] = matrix.source.apply(lambda x: dic[x])\n",
    "\n",
    "    links=matrix.to_dict(orient='records')\n",
    "    \n",
    "    wid=SankeyWidget(links = links, layout = layout)\n",
    "\n",
    "    display(HTML(\"<h1>%s, region='%s', skill ='%s', area = '%s'</h1>\" % (year,region,skill,area)))\n",
    "    display(wid)\n",
    "    \n",
    "    if save == True:\n",
    "        wid.auto_save_png('graphs/sankey/%s_%s_%s_%s_%s.png' % (m.name,year,region,skill,area))\n",
    "\n",
    "model.out_sankeyplot = out_sankeyplot\n",
    "model.out_distplot = out_distplot\n",
    "model.out_immigration_rate_by_country = out_immigration_rate_by_country\n",
    "model.out_emigration_rate_by_wbregion = out_emigration_rate_by_wbregion\n",
    "model.out_migrant_world_stock = out_migrant_world_stock\n",
    "model.out_world_aggregates = out_world_aggregates\n",
    "model.out_composition_of_mig = out_composition_of_mig"
   ]
  },
  {
   "cell_type": "markdown",
   "metadata": {
    "toc-hr-collapsed": false
   },
   "source": [
    "# Simulate models"
   ]
  },
  {
   "cell_type": "markdown",
   "metadata": {},
   "source": [
    "## Model 1: Intermediate scenario with south-south migration"
   ]
  },
  {
   "cell_type": "code",
   "execution_count": 130,
   "metadata": {
    "ExecuteTime": {
     "end_time": "2019-08-30T12:29:00.832224Z",
     "start_time": "2019-08-30T12:27:19.089898Z"
    },
    "scrolled": true
   },
   "outputs": [
    {
     "name": "stderr",
     "output_type": "stream",
     "text": [
      "/home/scheewel/anaconda3/lib/python3.7/site-packages/ipykernel_launcher.py:1: PerformanceWarning: indexing past lexsort depth may impact performance.\n",
      "  \"\"\"Entry point for launching an IPython kernel.\n"
     ]
    },
    {
     "data": {
      "text/html": [
       "<b>Launched with quickstart!</b>"
      ],
      "text/plain": [
       "<IPython.core.display.HTML object>"
      ]
     },
     "metadata": {},
     "output_type": "display_data"
    },
    {
     "data": {
      "image/png": "[encoded data removed]",
      "text/plain": [
       "<Figure size 1080x288 with 4 Axes>"
      ]
     },
     "metadata": {
      "needs_background": "light"
     },
     "output_type": "display_data"
    },
    {
     "name": "stdout",
     "output_type": "stream",
     "text": [
      "CPU times: user 20.8 s, sys: 43.9 ms, total: 20.9 s\n",
      "Wall time: 20.8 s\n"
     ]
    }
   ],
   "source": [
    "%%time\n",
    "m1 = model(name=\"intermediate, bilateral mig\", tol=1e-5, scenario='intermediate')\n",
    "m1.correct_south_south()\n",
    "m1.calib_kappa()\n",
    "m1.calib_A()\n",
    "m1.calib_epsilon()\n",
    "m1.calib_migcosts()\n",
    "m1.fertility()\n",
    "m1.simulate(report=True, report_from=0, max_iter=50,quickstart=True)\n",
    "m1.urbanization()"
   ]
  },
  {
   "cell_type": "markdown",
   "metadata": {},
   "source": [
    "## Model 2: Minimalist scenario with south-south migration"
   ]
  },
  {
   "cell_type": "code",
   "execution_count": 131,
   "metadata": {
    "ExecuteTime": {
     "end_time": "2019-08-30T12:18:19.034306Z",
     "start_time": "2019-08-30T12:18:17.539Z"
    },
    "scrolled": true
   },
   "outputs": [
    {
     "name": "stderr",
     "output_type": "stream",
     "text": [
      "/home/scheewel/anaconda3/lib/python3.7/site-packages/ipykernel_launcher.py:1: PerformanceWarning: indexing past lexsort depth may impact performance.\n",
      "  \"\"\"Entry point for launching an IPython kernel.\n"
     ]
    },
    {
     "data": {
      "text/html": [
       "<b>Launched with quickstart!</b>"
      ],
      "text/plain": [
       "<IPython.core.display.HTML object>"
      ]
     },
     "metadata": {},
     "output_type": "display_data"
    },
    {
     "data": {
      "image/png": "[encoded data removed]",
      "text/plain": [
       "<Figure size 1080x288 with 4 Axes>"
      ]
     },
     "metadata": {
      "needs_background": "light"
     },
     "output_type": "display_data"
    },
    {
     "name": "stdout",
     "output_type": "stream",
     "text": [
      "CPU times: user 20.4 s, sys: 40 ms, total: 20.4 s\n",
      "Wall time: 20.4 s\n"
     ]
    }
   ],
   "source": [
    "%%time\n",
    "m2 = model(name=\"minimalist, bilateral mig\", tol=1e-5, scenario='minimalist')\n",
    "m2.correct_south_south()\n",
    "m2.calib_kappa()\n",
    "m2.calib_A()\n",
    "m2.calib_epsilon()\n",
    "m2.calib_migcosts()\n",
    "m2.fertility()\n",
    "m2.simulate(report=True, report_from=0, max_iter=50,quickstart=True)\n",
    "m2.urbanization()"
   ]
  },
  {
   "cell_type": "markdown",
   "metadata": {},
   "source": [
    "## Model 3: Maximalist scenario with south-south migration"
   ]
  },
  {
   "cell_type": "code",
   "execution_count": 132,
   "metadata": {
    "ExecuteTime": {
     "end_time": "2019-08-30T12:18:19.035342Z",
     "start_time": "2019-08-30T12:18:17.545Z"
    },
    "scrolled": true
   },
   "outputs": [
    {
     "name": "stderr",
     "output_type": "stream",
     "text": [
      "/home/scheewel/anaconda3/lib/python3.7/site-packages/ipykernel_launcher.py:1: PerformanceWarning: indexing past lexsort depth may impact performance.\n",
      "  \"\"\"Entry point for launching an IPython kernel.\n"
     ]
    },
    {
     "data": {
      "text/html": [
       "<b>Launched with quickstart!</b>"
      ],
      "text/plain": [
       "<IPython.core.display.HTML object>"
      ]
     },
     "metadata": {},
     "output_type": "display_data"
    },
    {
     "data": {
      "image/png": "[encoded data removed]",
      "text/plain": [
       "<Figure size 1080x288 with 4 Axes>"
      ]
     },
     "metadata": {
      "needs_background": "light"
     },
     "output_type": "display_data"
    },
    {
     "name": "stdout",
     "output_type": "stream",
     "text": [
      "CPU times: user 20 s, sys: 11.9 ms, total: 20 s\n",
      "Wall time: 20 s\n"
     ]
    }
   ],
   "source": [
    "%%time\n",
    "m3 = model(name='maximalist, bilateral mig', tol=1e-5, scenario='maximalist')\n",
    "m3.correct_south_south()\n",
    "m3.calib_kappa()\n",
    "m3.calib_A()\n",
    "m3.calib_epsilon()\n",
    "m3.calib_migcosts()\n",
    "m3.fertility()\n",
    "m3.simulate(report=True, report_from=0, max_iter=50,quickstart=True)\n",
    "m3.urbanization()"
   ]
  },
  {
   "cell_type": "markdown",
   "metadata": {},
   "source": [
    "## Model 4: Intermediate scenario no South"
   ]
  },
  {
   "cell_type": "code",
   "execution_count": 138,
   "metadata": {
    "ExecuteTime": {
     "end_time": "2019-08-30T12:45:31.762084Z",
     "start_time": "2019-08-30T12:42:57.220711Z"
    }
   },
   "outputs": [
    {
     "name": "stderr",
     "output_type": "stream",
     "text": [
      "/home/scheewel/anaconda3/lib/python3.7/site-packages/ipykernel_launcher.py:1: PerformanceWarning: indexing past lexsort depth may impact performance.\n",
      "  \"\"\"Entry point for launching an IPython kernel.\n"
     ]
    },
    {
     "data": {
      "text/html": [
       "<b>Launched with quickstart!</b>"
      ],
      "text/plain": [
       "<IPython.core.display.HTML object>"
      ]
     },
     "metadata": {},
     "output_type": "display_data"
    },
    {
     "data": {
      "image/png": "[encoded data removed]",
      "text/plain": [
       "<Figure size 1080x288 with 4 Axes>"
      ]
     },
     "metadata": {
      "needs_background": "light"
     },
     "output_type": "display_data"
    },
    {
     "name": "stdout",
     "output_type": "stream",
     "text": [
      "CPU times: user 19.4 s, sys: 56 ms, total: 19.5 s\n",
      "Wall time: 19.4 s\n"
     ]
    }
   ],
   "source": [
    "%%time\n",
    "m4 = model(name='intermediate no South', tol=1e-5, scenario='intermediate')\n",
    "m4.calib_kappa()\n",
    "m4.calib_A()\n",
    "m4.calib_epsilon()\n",
    "m4.calib_migcosts()\n",
    "m4.fertility()\n",
    "m4.simulate(report=True, report_from=0, max_iter=50,quickstart=True,mig_config='no_south')\n",
    "m4.urbanization()"
   ]
  },
  {
   "cell_type": "markdown",
   "metadata": {},
   "source": [
    "## Model 5: Minimalist scenario no South"
   ]
  },
  {
   "cell_type": "code",
   "execution_count": null,
   "metadata": {
    "ExecuteTime": {
     "end_time": "2019-08-30T12:45:31.762084Z",
     "start_time": "2019-08-30T12:42:57.220711Z"
    }
   },
   "outputs": [
    {
     "name": "stderr",
     "output_type": "stream",
     "text": [
      "/home/scheewel/anaconda3/lib/python3.7/site-packages/ipykernel_launcher.py:1: PerformanceWarning: indexing past lexsort depth may impact performance.\n",
      "  \"\"\"Entry point for launching an IPython kernel.\n"
     ]
    },
    {
     "data": {
      "text/html": [
       "<b>Launched with quickstart!</b>"
      ],
      "text/plain": [
       "<IPython.core.display.HTML object>"
      ]
     },
     "metadata": {},
     "output_type": "display_data"
    }
   ],
   "source": [
    "%%time\n",
    "m5 = model(name='minimalist no South', tol=1e-5, scenario='minimalist')\n",
    "m5.calib_kappa()\n",
    "m5.calib_A()\n",
    "m5.calib_epsilon()\n",
    "m5.calib_migcosts()\n",
    "m5.fertility()\n",
    "m5.simulate(report=True, report_from=0, max_iter=50,quickstart=True,mig_config='no_south')\n",
    "m5.urbanization()"
   ]
  },
  {
   "cell_type": "markdown",
   "metadata": {},
   "source": [
    "## Model 6: Maximalist scenario no South"
   ]
  },
  {
   "cell_type": "code",
   "execution_count": null,
   "metadata": {
    "ExecuteTime": {
     "end_time": "2019-08-30T12:45:31.762084Z",
     "start_time": "2019-08-30T12:42:57.220711Z"
    }
   },
   "outputs": [],
   "source": [
    "%%time\n",
    "m6 = model(name='maximalist no South', tol=1e-5, scenario='maximalist')\n",
    "m6.calib_kappa()\n",
    "m6.calib_A()\n",
    "m6.calib_epsilon()\n",
    "m6.calib_migcosts()\n",
    "m6.fertility()\n",
    "m6.simulate(report=True, report_from=0, max_iter=50,quickstart=True,mig_config='no_south')\n",
    "m6.urbanization()"
   ]
  },
  {
   "cell_type": "markdown",
   "metadata": {},
   "source": [
    "## Model 7: Intermediate scenario no North"
   ]
  },
  {
   "cell_type": "code",
   "execution_count": null,
   "metadata": {},
   "outputs": [],
   "source": [
    "%%time\n",
    "m7 = model(name='intermediate no North', tol=1e-5, scenario='intermediate')\n",
    "m7.calib_kappa()\n",
    "m7.calib_A()\n",
    "m7.calib_epsilon()\n",
    "m7.calib_migcosts()\n",
    "m7.fertility()\n",
    "m7.simulate(report=True, report_from=0, max_iter=50,quickstart=True,mig_config='no_north')\n",
    "m7.urbanization()"
   ]
  },
  {
   "cell_type": "markdown",
   "metadata": {},
   "source": [
    "## Model 8: Intermediate scenario no North"
   ]
  },
  {
   "cell_type": "code",
   "execution_count": null,
   "metadata": {},
   "outputs": [],
   "source": [
    "%%time\n",
    "m8 = model(name='minimalist no North', tol=1e-5, scenario='minimalist')\n",
    "m8.calib_kappa()\n",
    "m8.calib_A()\n",
    "m8.calib_epsilon()\n",
    "m8.calib_migcosts()\n",
    "m8.fertility()\n",
    "m8.simulate(report=True, report_from=0, max_iter=50,quickstart=True,mig_config='no_north')\n",
    "m8.urbanization()"
   ]
  },
  {
   "cell_type": "markdown",
   "metadata": {},
   "source": [
    "## Model 9: Intermediate scenario no North"
   ]
  },
  {
   "cell_type": "code",
   "execution_count": null,
   "metadata": {},
   "outputs": [],
   "source": [
    "%%time\n",
    "m9 = model(name='maximalist no North', tol=1e-5, scenario='maximalist')\n",
    "m9.calib_kappa()\n",
    "m9.calib_A()\n",
    "m9.calib_epsilon()\n",
    "m9.calib_migcosts()\n",
    "m9.fertility()\n",
    "m9.simulate(report=True, report_from=0, max_iter=50,quickstart=True,mig_config='no_north')\n",
    "m9.urbanization()"
   ]
  },
  {
   "cell_type": "markdown",
   "metadata": {},
   "source": [
    "## Model X: Intermediate scenario, compensation for forced displacement"
   ]
  },
  {
   "cell_type": "code",
   "execution_count": null,
   "metadata": {
    "scrolled": true
   },
   "outputs": [],
   "source": [
    "%%time\n",
    "m10 = model(name=\"intermediate, comp for forced displ\", tol=1e-5, scenario='intermediate',χ={'d': 0.0, 'f': 0.0})\n",
    "m10.correct_south_south()\n",
    "m10.calib_kappa()\n",
    "m10.calib_A()\n",
    "m10.calib_epsilon()\n",
    "m10.calib_migcosts()\n",
    "m10.fertility()\n",
    "m10.simulate(report=True, report_from=0, max_iter=50,quickstart=True)\n",
    "m10.urbanization()"
   ]
  },
  {
   "cell_type": "markdown",
   "metadata": {},
   "source": [
    "## Model X: Intermediate scenario, incremental positive shock in migration costs"
   ]
  },
  {
   "cell_type": "code",
   "execution_count": null,
   "metadata": {},
   "outputs": [],
   "source": [
    "# m9 = model(name=\"intermediate + 0.01 % cost shock\", tol=1e-5, scenario='intermediate')\n",
    "# m9.correct_south_south()\n",
    "# m9.calib_kappa()\n",
    "# m9.calib_A()\n",
    "# m9.calib_epsilon()\n",
    "# m9.calib_migcosts()\n",
    "# m9.fertility()\n",
    "# m9.xij = np.minimum(m9.xij*1.0001,1)\n",
    "# m9.xii = np.minimum(m9.xii*1.0001,1)\n",
    "# m9.simulate(report=True, report_from=0, max_iter=50)\n",
    "# m9.urbanization()"
   ]
  },
  {
   "cell_type": "markdown",
   "metadata": {},
   "source": [
    "## Model X: Intermediate scenario, incremental negative shock in migration costs"
   ]
  },
  {
   "cell_type": "code",
   "execution_count": null,
   "metadata": {},
   "outputs": [],
   "source": [
    "# m10 = model(name=\"intermediate - 0.01 % cost shock\", tol=1e-5, scenario='intermediate')\n",
    "# m10.correct_south_south()\n",
    "# m10.calib_kappa()\n",
    "# m10.calib_A()\n",
    "# m10.calib_epsilon()\n",
    "# m10.calib_migcosts()\n",
    "# m10.fertility()\n",
    "# m10.xij = np.maximum(m9.xij*0.0009,0)\n",
    "# m10.xii = np.maximum(m9.xii*0.0009,0)\n",
    "# m10.simulate(report=True, report_from=0, max_iter=50)\n",
    "# m10.urbanization()"
   ]
  },
  {
   "cell_type": "markdown",
   "metadata": {},
   "source": [
    "## Model X: Intermediate scenario, no international migration"
   ]
  },
  {
   "cell_type": "code",
   "execution_count": null,
   "metadata": {},
   "outputs": [],
   "source": [
    "# m11 = model(name=\"intermediate no int. mig\", tol=1e-5, scenario='intermediate')\n",
    "# m11.correct_south_south()\n",
    "# m11.calib_kappa()\n",
    "# m11.calib_A()\n",
    "# m11.calib_epsilon()\n",
    "# m11.calib_migcosts()\n",
    "# m11.fertility()\n",
    "# m11.xij.loc[:,:] = 1\n",
    "# m11.simulate(report=True, report_from=0, max_iter=50)\n",
    "# m11.urbanization()"
   ]
  },
  {
   "cell_type": "markdown",
   "metadata": {},
   "source": [
    "## Model X: Minimalist scenario, no international migration"
   ]
  },
  {
   "cell_type": "code",
   "execution_count": null,
   "metadata": {},
   "outputs": [],
   "source": [
    "# m12 = model(name=\"intermediate no int. mig\", tol=1e-5, scenario='minimalist')\n",
    "# m12.correct_south_south()\n",
    "# m12.calib_kappa()\n",
    "# m12.calib_A()\n",
    "# m12.calib_epsilon()\n",
    "# m12.calib_migcosts()\n",
    "# m12.fertility()\n",
    "# m12.xij.loc[:,:] = 1\n",
    "# m12.simulate(report=True, report_from=0, max_iter=50)\n",
    "# m12.urbanization()"
   ]
  },
  {
   "cell_type": "markdown",
   "metadata": {},
   "source": [
    "## Model X: Maximalist scenario, no international migration"
   ]
  },
  {
   "cell_type": "code",
   "execution_count": null,
   "metadata": {},
   "outputs": [],
   "source": [
    "# m13 = model(name=\"intermediate no int. mig\", tol=1e-5, scenario='maximalist')\n",
    "# m13.correct_south_south()\n",
    "# m13.calib_kappa()\n",
    "# m13.calib_A()\n",
    "# m13.calib_epsilon()\n",
    "# m13.calib_migcosts()\n",
    "# m13.fertility()\n",
    "# m13.xij.loc[:,:] = 1\n",
    "# m13.simulate(report=True, report_from=0, max_iter=50)\n",
    "# m13.urbanization()"
   ]
  },
  {
   "cell_type": "markdown",
   "metadata": {},
   "source": [
    "## Model X: Intermediate scenario, no interregional migration"
   ]
  },
  {
   "cell_type": "code",
   "execution_count": null,
   "metadata": {},
   "outputs": [],
   "source": [
    "# m14 = model(name=\"intermediate no internal mig\", tol=1e-5, scenario='intermediate')\n",
    "# m14.correct_south_south()\n",
    "# m14.calib_kappa()\n",
    "# m14.calib_A()\n",
    "# m14.calib_epsilon()\n",
    "# m14.calib_migcosts()\n",
    "# m14.fertility()\n",
    "# m14.xii.loc[:,:] = 1\n",
    "# m14.simulate(report=True, report_from=0, max_iter=50)\n",
    "# m14.urbanization()"
   ]
  },
  {
   "cell_type": "markdown",
   "metadata": {},
   "source": [
    "## Model X: Intermediate scenario, no interregional migration"
   ]
  },
  {
   "cell_type": "code",
   "execution_count": null,
   "metadata": {},
   "outputs": [],
   "source": [
    "# m15 = model(name=\"intermediate no internal mig\", tol=1e-5, scenario='intermediate')\n",
    "# m15.correct_south_south()\n",
    "# m15.calib_kappa()\n",
    "# m15.calib_A()\n",
    "# m15.calib_epsilon()\n",
    "# m15.calib_migcosts()\n",
    "# m15.fertility()\n",
    "# m15.xii.loc[:,:] = 1\n",
    "# m15.simulate(report=True, report_from=0, max_iter=50)\n",
    "# m15.urbanization()"
   ]
  },
  {
   "cell_type": "markdown",
   "metadata": {},
   "source": [
    "## Model X: Intermediate scenario, no interregional migration"
   ]
  },
  {
   "cell_type": "code",
   "execution_count": null,
   "metadata": {},
   "outputs": [],
   "source": [
    "# m14 = model(name=\"intermediate no internal mig\", tol=1e-5, scenario='intermediate')\n",
    "# m14.correct_south_south()\n",
    "# m14.calib_kappa()\n",
    "# m14.calib_A()\n",
    "# m14.calib_epsilon()\n",
    "# m14.calib_migcosts()\n",
    "# m14.fertility()\n",
    "# m14.xii.loc[:,:] = 1\n",
    "# m14.simulate(report=True, report_from=0, max_iter=50)\n",
    "# m14.urbanization()"
   ]
  },
  {
   "cell_type": "markdown",
   "metadata": {},
   "source": [
    "## Model X: Intermediate scenario, no migration"
   ]
  },
  {
   "cell_type": "code",
   "execution_count": null,
   "metadata": {},
   "outputs": [],
   "source": [
    "# m13 = model(name=\"intermediate no mig\", tol=1e-5, scenario='intermediate')\n",
    "# m13.correct_south_south()\n",
    "# m13.calib_kappa()\n",
    "# m13.calib_A()\n",
    "# m13.calib_epsilon()\n",
    "# m13.calib_migcosts()\n",
    "# m13.fertility()\n",
    "# m13.xii.loc[:,:] = 1\n",
    "# m13.xij.loc[:,:] = 1\n",
    "# m13.simulate(report=True, report_from=0, max_iter=50)\n",
    "# m13.urbanization()"
   ]
  },
  {
   "cell_type": "code",
   "execution_count": 54,
   "metadata": {},
   "outputs": [
    {
     "data": {
      "image/png": "[encoded data removed]",
      "text/plain": [
       "<Figure size 648x360 with 1 Axes>"
      ]
     },
     "metadata": {
      "needs_background": "light"
     },
     "output_type": "display_data"
    }
   ],
   "source": [
    "m2.out_distplot([m1,m3],text=True,save=True,save_name='Fig7.pdf',cols=3)"
   ]
  },
  {
   "cell_type": "code",
   "execution_count": 125,
   "metadata": {},
   "outputs": [
    {
     "data": {
      "image/png": "[encoded data removed]",
      "text/plain": [
       "<Figure size 648x360 with 1 Axes>"
      ]
     },
     "metadata": {
      "needs_background": "light"
     },
     "output_type": "display_data"
    }
   ],
   "source": [
    "m5.out_distplot([m4,m6],text=True)"
   ]
  },
  {
   "cell_type": "code",
   "execution_count": 122,
   "metadata": {},
   "outputs": [
    {
     "data": {
      "image/png": "[encoded data removed]",
      "text/plain": [
       "<Figure size 648x360 with 1 Axes>"
      ]
     },
     "metadata": {
      "needs_background": "light"
     },
     "output_type": "display_data"
    }
   ],
   "source": [
    "m8.out_distplot([m7,m9])"
   ]
  },
  {
   "cell_type": "code",
   "execution_count": 127,
   "metadata": {},
   "outputs": [
    {
     "data": {
      "image/png": "[encoded data removed]",
      "text/plain": [
       "<Figure size 648x360 with 1 Axes>"
      ]
     },
     "metadata": {
      "needs_background": "light"
     },
     "output_type": "display_data"
    }
   ],
   "source": [
    "m1.out_distplot([m4,m7],text=True)"
   ]
  },
  {
   "cell_type": "code",
   "execution_count": 71,
   "metadata": {},
   "outputs": [],
   "source": []
  },
  {
   "cell_type": "code",
   "execution_count": 108,
   "metadata": {},
   "outputs": [],
   "source": [
    "def world_stock_text_table(mod_int, mod_max, mod_min):\n",
    "    int_min = (mod_int.out_migrant_world_stock()-mod_min.out_migrant_world_stock())\n",
    "    int_min = (mod_max.out_migrant_world_stock()-mod_min.out_migrant_world_stock())\n",
    "    int_min['Type'] = int_min.index\n",
    "    int_min['Type'] = int_min.Type.str.split('-').apply(lambda x: x[-1])\n",
    "    int_min = int_min.groupby('Type').sum()\n",
    "    max_min['Type'] = max_min.index\n",
    "    max_min['Type'] = max_min.Type.str.split('-').apply(lambda x: x[-1])\n",
    "    max_min = max_min.groupby('Type').sum()\n",
    "\n",
    "    print(pd.concat([int_min,max_min],0,keys=['int-min','max-min']).to_latex(bold_rows=True,multirow=True))"
   ]
  },
  {
   "cell_type": "code",
   "execution_count": 107,
   "metadata": {},
   "outputs": [],
   "source": [
    "def stackplot(mod_int_or_max,mod_min,drop=None,save=False,name='default.pdf'):\n",
    "    matrix = (mod_int_or_max.out_migrant_world_stock()-mod_min.out_migrant_world_stock())\n",
    "    matrix['Type'] = matrix.index\n",
    "    matrix['Type'] = matrix.Type.str.split('-').apply(lambda x: x[-1])\n",
    "    matrix = matrix.groupby('Type').sum()\n",
    "    c = cycle(['#'+i*6 for i in ['0','5','9','A','B','C']])\n",
    "    h = cycle(['','/','\\\\','|||'])\n",
    "    if drop != None:\n",
    "        mtx = matrix.drop(drop,0).sort_values(by=2040,ascending=False).T\n",
    "    else:\n",
    "        mtx = matrix.sort_values(by=2040,ascending=False).T\n",
    "    cols = list(mtx)\n",
    "    x = list(mtx.index)\n",
    "    y = []\n",
    "    colors = []\n",
    "    hatches = []\n",
    "    fig = plt.figure(figsize=[8,5])\n",
    "    for col in cols:\n",
    "        y = y + [list(mtx[col])]\n",
    "        colors = colors + [next(c)]\n",
    "        hatches = hatches + [next(h)]\n",
    "    stacks = plt.stackplot(x,np.array(y),labels=cols,colors=list(reversed(colors)),lw=1)\n",
    "    for stack in stacks:\n",
    "        stack.set_hatch(next(h))\n",
    "    plt.xticks(x)\n",
    "    plt.legend(loc='upper center', bbox_to_anchor=(0.5, -0.1),ncol=4)\n",
    "    plt.tight_layout()\n",
    "    plt.show()\n",
    "    display(mtx)\n",
    "    if save != False:\n",
    "        fig.savefig('graphs/stackplots/'+name)\n"
   ]
  },
  {
   "cell_type": "code",
   "execution_count": 73,
   "metadata": {},
   "outputs": [
    {
     "data": {
      "image/png": "[encoded data removed]",
      "text/plain": [
       "<Figure size 576x360 with 1 Axes>"
      ]
     },
     "metadata": {
      "needs_background": "light"
     },
     "output_type": "display_data"
    },
    {
     "data": {
      "text/html": [
       "<div>\n",
       "<style scoped>\n",
       "    .dataframe tbody tr th:only-of-type {\n",
       "        vertical-align: middle;\n",
       "    }\n",
       "\n",
       "    .dataframe tbody tr th {\n",
       "        vertical-align: top;\n",
       "    }\n",
       "\n",
       "    .dataframe thead th {\n",
       "        text-align: right;\n",
       "    }\n",
       "</style>\n",
       "<table border=\"1\" class=\"dataframe\">\n",
       "  <thead>\n",
       "    <tr style=\"text-align: right;\">\n",
       "      <th>Type</th>\n",
       "      <th>Local</th>\n",
       "      <th>Interregional</th>\n",
       "      <th>North</th>\n",
       "      <th>South</th>\n",
       "    </tr>\n",
       "    <tr>\n",
       "      <th>t</th>\n",
       "      <th></th>\n",
       "      <th></th>\n",
       "      <th></th>\n",
       "      <th></th>\n",
       "    </tr>\n",
       "  </thead>\n",
       "  <tbody>\n",
       "    <tr>\n",
       "      <td>2010</td>\n",
       "      <td>0.000000</td>\n",
       "      <td>0.000000</td>\n",
       "      <td>0.000000</td>\n",
       "      <td>0.000000</td>\n",
       "    </tr>\n",
       "    <tr>\n",
       "      <td>2040</td>\n",
       "      <td>47.983639</td>\n",
       "      <td>6.529668</td>\n",
       "      <td>1.469094</td>\n",
       "      <td>0.797236</td>\n",
       "    </tr>\n",
       "    <tr>\n",
       "      <td>2070</td>\n",
       "      <td>56.853983</td>\n",
       "      <td>6.945063</td>\n",
       "      <td>1.001438</td>\n",
       "      <td>1.093840</td>\n",
       "    </tr>\n",
       "    <tr>\n",
       "      <td>2100</td>\n",
       "      <td>55.767339</td>\n",
       "      <td>6.192032</td>\n",
       "      <td>0.807420</td>\n",
       "      <td>1.108286</td>\n",
       "    </tr>\n",
       "  </tbody>\n",
       "</table>\n",
       "</div>"
      ],
      "text/plain": [
       "Type      Local  Interregional     North     South\n",
       "t                                                 \n",
       "2010   0.000000       0.000000  0.000000  0.000000\n",
       "2040  47.983639       6.529668  1.469094  0.797236\n",
       "2070  56.853983       6.945063  1.001438  1.093840\n",
       "2100  55.767339       6.192032  0.807420  1.108286"
      ]
     },
     "metadata": {},
     "output_type": "display_data"
    },
    {
     "data": {
      "image/png": "[encoded data removed]",
      "text/plain": [
       "<Figure size 576x360 with 1 Axes>"
      ]
     },
     "metadata": {
      "needs_background": "light"
     },
     "output_type": "display_data"
    },
    {
     "data": {
      "text/html": [
       "<div>\n",
       "<style scoped>\n",
       "    .dataframe tbody tr th:only-of-type {\n",
       "        vertical-align: middle;\n",
       "    }\n",
       "\n",
       "    .dataframe tbody tr th {\n",
       "        vertical-align: top;\n",
       "    }\n",
       "\n",
       "    .dataframe thead th {\n",
       "        text-align: right;\n",
       "    }\n",
       "</style>\n",
       "<table border=\"1\" class=\"dataframe\">\n",
       "  <thead>\n",
       "    <tr style=\"text-align: right;\">\n",
       "      <th>Type</th>\n",
       "      <th>Local</th>\n",
       "      <th>Interregional</th>\n",
       "      <th>North</th>\n",
       "      <th>South</th>\n",
       "    </tr>\n",
       "    <tr>\n",
       "      <th>t</th>\n",
       "      <th></th>\n",
       "      <th></th>\n",
       "      <th></th>\n",
       "      <th></th>\n",
       "    </tr>\n",
       "  </thead>\n",
       "  <tbody>\n",
       "    <tr>\n",
       "      <td>2010</td>\n",
       "      <td>0.000000</td>\n",
       "      <td>0.000000</td>\n",
       "      <td>0.000000</td>\n",
       "      <td>0.000000</td>\n",
       "    </tr>\n",
       "    <tr>\n",
       "      <td>2040</td>\n",
       "      <td>57.039357</td>\n",
       "      <td>17.014258</td>\n",
       "      <td>1.666328</td>\n",
       "      <td>0.685854</td>\n",
       "    </tr>\n",
       "    <tr>\n",
       "      <td>2070</td>\n",
       "      <td>65.114255</td>\n",
       "      <td>18.355623</td>\n",
       "      <td>1.301029</td>\n",
       "      <td>1.360133</td>\n",
       "    </tr>\n",
       "    <tr>\n",
       "      <td>2100</td>\n",
       "      <td>63.842165</td>\n",
       "      <td>15.667929</td>\n",
       "      <td>1.123001</td>\n",
       "      <td>1.390775</td>\n",
       "    </tr>\n",
       "  </tbody>\n",
       "</table>\n",
       "</div>"
      ],
      "text/plain": [
       "Type      Local  Interregional     North     South\n",
       "t                                                 \n",
       "2010   0.000000       0.000000  0.000000  0.000000\n",
       "2040  57.039357      17.014258  1.666328  0.685854\n",
       "2070  65.114255      18.355623  1.301029  1.360133\n",
       "2100  63.842165      15.667929  1.123001  1.390775"
      ]
     },
     "metadata": {},
     "output_type": "display_data"
    }
   ],
   "source": [
    "stackplot(int_min,save=True,name='int_min.pdf')\n",
    "stackplot(max_min,save=True,name='max_min.pdf')"
   ]
  },
  {
   "cell_type": "code",
   "execution_count": null,
   "metadata": {},
   "outputs": [],
   "source": [
    "idx = ['r','r*','s','b','b*','Country','Destination','t']\n",
    "\n",
    "Ms = m1.Ms.unstack().reset_index()\n",
    "Ms['Destination'] = Ms['Country']\n",
    "Ms['r*'] = Ms.r\n",
    "Ms['b*'] = 'd'\n",
    "Ms = Ms.set_index(idx)\n",
    "\n",
    "Mii = m1.Mii.unstack().reset_index()\n",
    "Mii['Destination'] = Mii['Country']\n",
    "Mii['r*'] = Mii.r.apply(lambda x : set(R).difference(x).pop())\n",
    "Mii['b*'] = 'd'\n",
    "Mii = Mii.set_index(idx)\n",
    "\n",
    "Mij = m1.Mij.unstack().reset_index()\n",
    "Mij['r*'] = Mij.r.apply(lambda x : set(R).difference(x).pop())\n",
    "Mij['b*'] = 'd'\n",
    "Mij = Mij.set_index(idx)"
   ]
  },
  {
   "cell_type": "code",
   "execution_count": null,
   "metadata": {},
   "outputs": [],
   "source": [
    "M = pd.concat([Ms,Mii,Mij],0)"
   ]
  },
  {
   "cell_type": "code",
   "execution_count": null,
   "metadata": {},
   "outputs": [],
   "source": [
    "M.reset_index()"
   ]
  },
  {
   "cell_type": "code",
   "execution_count": null,
   "metadata": {},
   "outputs": [],
   "source": [
    "migtype = 'immigration'\n",
    "on = 'georegion'\n",
    "\n",
    "M = m1.Mij.unstack().reset_index()\n",
    "if migtype == 'emigration':\n",
    "    col = 'Destination'\n",
    "else:\n",
    "    col = 'Country'\n",
    "M[on] = M[col].replace(list(m1.__dict__[on].index),list(m1.__dict__[on]))\n",
    "M.groupby(['t','georegion']).sum().unstack().T.drop(1980,1)"
   ]
  },
  {
   "cell_type": "code",
   "execution_count": null,
   "metadata": {},
   "outputs": [],
   "source": [
    "M = m1.Mij.unstack().reset_index()\n",
    "if on != 'country':\n",
    "    var[on] = var['Country'].replace(\n",
    "        list(m.__dict__[on].index),\n",
    "        list(m.__dict__[on]))\n",
    "var = var.groupby(['t',on]).sum().T.stack()"
   ]
  },
  {
   "cell_type": "code",
   "execution_count": null,
   "metadata": {},
   "outputs": [],
   "source": [
    "M.groupby(['t','Destination']).sum()"
   ]
  },
  {
   "cell_type": "code",
   "execution_count": null,
   "metadata": {},
   "outputs": [],
   "source": [
    "# b = False\n",
    "# OECD = False\n",
    "\n",
    "# dic = {\n",
    "#     'Iij': 'International immigration',\n",
    "#     'Iii': 'Internal immigration',\n",
    "#     'Ms': 'Locally displaced people'}\n",
    "\n",
    "# for var in ['Ms','Iij','Iii']:\n",
    "#     for t in [2100]:\n",
    "#         count = 0\n",
    "#         for by in ['country','georegion','wbregion']:\n",
    "#             for r in R:\n",
    "#                 for s in S:\n",
    "#                     count += 1\n",
    "#                     fig = plt.figure(figsize=(25,7.5))\n",
    "#                     a = m1.__dict__[var] - m2.__dict__[var]\n",
    "#                     b = m3.__dict__[var] - m2.__dict__[var]\n",
    "#                     c = m4.__dict__[var] - m5.__dict__[var]\n",
    "#                     d = m6.__dict__[var] - m5.__dict__[var]\n",
    "\n",
    "#                     if var == 'Ms':\n",
    "#                         a = a.xs('f',1,2)\n",
    "#                         b = b.xs('f',1,2)\n",
    "#                         c = c.xs('f',1,2)\n",
    "#                         d = d.xs('f',1,2)\n",
    "\n",
    "#                     if OECD == True:\n",
    "#                         a = a[m1.OECD == 1]\n",
    "#                         b = b[m1.OECD == 1]\n",
    "#                         c = c[m1.OECD == 1]\n",
    "#                         d = d[m1.OECD == 1]\n",
    "\n",
    "#                     if by != 'country':\n",
    "#                         a.index = pd.Series(a.index).replace(list(m1.__dict__[by].index),list(m1.__dict__[by]))\n",
    "#                         b.index = pd.Series(b.index).replace(list(m1.__dict__[by].index),list(m1.__dict__[by]))\n",
    "#                         c.index = pd.Series(c.index).replace(list(m1.__dict__[by].index),list(m1.__dict__[by]))\n",
    "#                         d.index = pd.Series(d.index).replace(list(m1.__dict__[by].index),list(m1.__dict__[by]))\n",
    "\n",
    "#                         a = a.reset_index().groupby('Country').sum()\n",
    "#                         b = b.reset_index().groupby('Country').sum()\n",
    "#                         c = d.reset_index().groupby('Country').sum()\n",
    "#                         d = d.reset_index().groupby('Country').sum()\n",
    "#                     else:\n",
    "#                         a.index = m1.iso\n",
    "#                         b.index = m1.iso\n",
    "#                         c.index = m1.iso\n",
    "#                         d.index = m1.iso\n",
    "                        \n",
    "#                         fig = plt.figure(figsize=(25,7.5))\n",
    "#                         plt.tick_params(axis='x', labelsize=8)\n",
    "\n",
    "#                     if by == 'subregion':\n",
    "#                         ms = 12\n",
    "#                     if by == 'country':\n",
    "#                         ms = 10\n",
    "\n",
    "#                     plt.plot(a.xs(t,1,2)[r][s].sort_values(),marker='o',linewidth=0,markersize=ms*1.0,label='bilateral migration, intermediate - minimalist')\n",
    "#                     plt.plot(b.xs(t,1,2)[r][s].sort_values(),marker='o',linewidth=0,markersize=ms*0.8,label='bilateral migration, maximalist - minimalist')\n",
    "#                     plt.plot(c.xs(t,1,2)[r][s].sort_values(),marker='o',linewidth=0,markersize=ms*0.6,label='only OECD migration, intermediate - minimalist')\n",
    "#                     plt.plot(d.xs(t,1,2)[r][s].sort_values(),marker='o',linewidth=0,markersize=ms*0.4,label='only OECD migration, maximalist - minimalist')\n",
    "#                     plt.title(\"%s by %s, region = %s, skill = %s, year = %s\"%(dic[var],by,r,s,t))\n",
    "#                     rcParams.update({'figure.autolayout': True})\n",
    "#                     plt.tight_layout()\n",
    "#                     plt.xticks(rotation='vertical')\n",
    "#                     plt.legend()\n",
    "#                     plt.grid(ls=':')\n",
    "#                     fig.savefig('graphs/movers/%s_%s_%s_%s.pdf' % (by,var,str(t),str(count)))\n",
    "#                     plt.show()\n"
   ]
  },
  {
   "cell_type": "code",
   "execution_count": null,
   "metadata": {},
   "outputs": [],
   "source": [
    "var = 'Y'\n",
    "m = m1\n",
    "elem = m.__dict__[var]\n",
    "if isinstance(elem, pd.DataFrame):\n",
    "    tuples = list(elem)\n",
    "#tuples = sorted(list(tuples), key=lambda item: item[len(list(tuples)[0])-1])"
   ]
  },
  {
   "cell_type": "code",
   "execution_count": null,
   "metadata": {},
   "outputs": [],
   "source": [
    "for region in R:\n",
    "    for skill in S:\n",
    "        for m in [m2,m1]:\n",
    "            var = 'L'\n",
    "            b = 'd'\n",
    "            pop = m.__dict__[var][region][skill]\n",
    "            pop.index = pd.Series(pop.index).apply(lambda x: m.__dict__['wbregion'][x])\n",
    "            pop.index.name = 'Index'\n",
    "            pop = pop.reset_index().groupby('Index').sum()\n",
    "            if not isinstance(list(pop)[0],int):\n",
    "                pop = pop[b]\n",
    "            pop = pop.T[pop.T.index <= 2100].T\n",
    "            pop.T.plot()\n",
    "            plt.title('%s: %s, %s,%s' %(m.name,var,region,skill))\n",
    "        plt.show()"
   ]
  },
  {
   "cell_type": "code",
   "execution_count": null,
   "metadata": {},
   "outputs": [],
   "source": [
    "m1."
   ]
  },
  {
   "cell_type": "markdown",
   "metadata": {},
   "source": [
    "# References\n",
    "\n",
    "(<a id=\"cit-Burzynski2018\" href=\"#call-Burzynski2018\">Burzynski, Deuster <em>et al.</em>, 2018</a>) Burzynski Michal, Deuster Christoph, Docquier Frederic <em>et al.</em>, ``_Climate change, Inequality and Migration_'', Working paper, vol. , number , pp. , January 2018.  [online](https://perso.uclouvain.be/frederic.docquier/filePDF/BDDD_Nova2018.pdf)\n",
    "\n"
   ]
  }
 ],
 "metadata": {
  "kernelspec": {
   "display_name": "Python 3",
   "language": "python",
   "name": "python3"
  },
  "language_info": {
   "codemirror_mode": {
    "name": "ipython",
    "version": 3
   },
   "file_extension": ".py",
   "mimetype": "text/x-python",
   "name": "python",
   "nbconvert_exporter": "python",
   "pygments_lexer": "ipython3",
   "version": "3.7.3"
  },
  "latex_envs": {
   "LaTeX_envs_menu_present": true,
   "autoclose": false,
   "autocomplete": true,
   "bibliofile": "biblio.bib",
   "cite_by": "apalike",
   "current_citInitial": 1,
   "eqLabelWithNumbers": true,
   "eqNumInitial": 1,
   "hotkeys": {
    "equation": "Ctrl-E",
    "itemize": "Ctrl-I"
   },
   "labels_anchors": false,
   "latex_user_defs": false,
   "report_style_numbering": false,
   "user_envs_cfg": false
  },
  "toc": {
   "base_numbering": 1,
   "nav_menu": {},
   "number_sections": true,
   "sideBar": true,
   "skip_h1_title": false,
   "title_cell": "Table of Contents",
   "title_sidebar": "Contents",
   "toc_cell": false,
   "toc_position": {
    "height": "calc(100% - 180px)",
    "left": "10px",
    "top": "150px",
    "width": "440px"
   },
   "toc_section_display": true,
   "toc_window_display": true
  },
  "toc-autonumbering": true,
  "toc-showtags": false,
  "varInspector": {
   "cols": {
    "lenName": 16,
    "lenType": 16,
    "lenVar": 40
   },
   "kernels_config": {
    "python": {
     "delete_cmd_postfix": "",
     "delete_cmd_prefix": "del ",
     "library": "var_list.py",
     "varRefreshCmd": "print(var_dic_list())"
    },
    "r": {
     "delete_cmd_postfix": ") ",
     "delete_cmd_prefix": "rm(",
     "library": "var_list.r",
     "varRefreshCmd": "cat(var_dic_list()) "
    }
   },
   "types_to_exclude": [
    "module",
    "function",
    "builtin_function_or_method",
    "instance",
    "_Feature"
   ],
   "window_display": false
  }
 },
 "nbformat": 4,
 "nbformat_minor": 4
}
